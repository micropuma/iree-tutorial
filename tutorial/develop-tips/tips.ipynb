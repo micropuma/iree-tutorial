{
 "cells": [
  {
   "cell_type": "code",
   "execution_count": 1,
   "id": "131083e5-602b-404f-9234-3e2feca9bc46",
   "metadata": {},
   "outputs": [
    {
     "ename": "CompilerToolError",
     "evalue": "Error invoking IREE compiler tool iree-compile\nError code: 1\nDiagnostics:\n/mnt/home/douliyang/mlir-workspace/iree-tutorial/myenv/lib/python3.11/site-packages/iree/compiler/tools/../_mlir_libs/iree-compile: /mnt/home/tools/xilinx/Vitis_HLS/2021.2/lib/lnx64.o/Default/libstdc++.so.6: version `CXXABI_1.3.11' not found (required by /mnt/home/douliyang/mlir-workspace/iree-tutorial/myenv/lib/python3.11/site-packages/iree/compiler/_mlir_libs/libIREECompiler.so)\n\n\nInvoked with:\n iree-compile /mnt/home/douliyang/mlir-workspace/iree-tutorial/myenv/lib/python3.11/site-packages/iree/compiler/tools/../_mlir_libs/iree-compile - --iree-input-type=auto --iree-vm-bytecode-module-output-format=flatbuffer-binary --iree-hal-target-backends=llvm-cpu --iree-llvmcpu-embedded-linker-path=/mnt/home/douliyang/mlir-workspace/iree-tutorial/myenv/lib/python3.11/site-packages/iree/compiler/tools/../_mlir_libs/iree-lld --mlir-print-debuginfo --mlir-print-op-on-diagnostic=false --mlir-timing\n\nNeed more information? Set IREE_SAVE_TEMPS=/some/dir in your environment to save all artifacts and reproducers.\n",
     "output_type": "error",
     "traceback": [
      "\u001b[0;31m---------------------------------------------------------------------------\u001b[0m",
      "\u001b[0;31mCompilerToolError\u001b[0m                         Traceback (most recent call last)",
      "Cell \u001b[0;32mIn[1], line 9\u001b[0m\n\u001b[1;32m      1\u001b[0m \u001b[38;5;28;01mimport\u001b[39;00m \u001b[38;5;21;01miree\u001b[39;00m\u001b[38;5;21;01m.\u001b[39;00m\u001b[38;5;21;01mcompiler\u001b[39;00m \u001b[38;5;28;01mas\u001b[39;00m \u001b[38;5;21;01mireec\u001b[39;00m\n\u001b[1;32m      3\u001b[0m input_mlir \u001b[38;5;241m=\u001b[39m \u001b[38;5;124m\"\"\"\u001b[39m\n\u001b[1;32m      4\u001b[0m \u001b[38;5;124mfunc.func @abs(\u001b[39m\u001b[38;5;132;01m%i\u001b[39;00m\u001b[38;5;124mnput : tensor<f32>) -> (tensor<f32>) \u001b[39m\u001b[38;5;124m{\u001b[39m\n\u001b[1;32m      5\u001b[0m \u001b[38;5;124m  \u001b[39m\u001b[38;5;132;01m%r\u001b[39;00m\u001b[38;5;124mesult = math.absf \u001b[39m\u001b[38;5;132;01m%i\u001b[39;00m\u001b[38;5;124mnput : tensor<f32>\u001b[39m\n\u001b[1;32m      6\u001b[0m \u001b[38;5;124m  return \u001b[39m\u001b[38;5;132;01m%r\u001b[39;00m\u001b[38;5;124mesult : tensor<f32>\u001b[39m\n\u001b[1;32m      7\u001b[0m \u001b[38;5;124m}\u001b[39m\u001b[38;5;124m\"\"\"\u001b[39m\n\u001b[0;32m----> 9\u001b[0m compiled_module \u001b[38;5;241m=\u001b[39m \u001b[43mireec\u001b[49m\u001b[38;5;241;43m.\u001b[39;49m\u001b[43mtools\u001b[49m\u001b[38;5;241;43m.\u001b[39;49m\u001b[43mcompile_str\u001b[49m\u001b[43m(\u001b[49m\n\u001b[1;32m     10\u001b[0m \u001b[43m    \u001b[49m\u001b[43minput_mlir\u001b[49m\u001b[43m,\u001b[49m\n\u001b[1;32m     11\u001b[0m \u001b[43m    \u001b[49m\u001b[43mtarget_backends\u001b[49m\u001b[38;5;241;43m=\u001b[39;49m\u001b[43m[\u001b[49m\u001b[38;5;124;43m\"\u001b[39;49m\u001b[38;5;124;43mllvm-cpu\u001b[39;49m\u001b[38;5;124;43m\"\u001b[39;49m\u001b[43m]\u001b[49m\u001b[43m,\u001b[49m\n\u001b[1;32m     12\u001b[0m \u001b[43m    \u001b[49m\u001b[43mextra_args\u001b[49m\u001b[38;5;241;43m=\u001b[39;49m\u001b[43m[\u001b[49m\u001b[38;5;124;43m\"\u001b[39;49m\u001b[38;5;124;43m--mlir-timing\u001b[39;49m\u001b[38;5;124;43m\"\u001b[39;49m\u001b[43m]\u001b[49m\u001b[43m)\u001b[49m\n",
      "File \u001b[0;32m/mnt/home/douliyang/mlir-workspace/iree-tutorial/myenv/lib/python3.11/site-packages/iree/compiler/tools/core.py:299\u001b[0m, in \u001b[0;36mcompile_str\u001b[0;34m(input_str, **kwargs)\u001b[0m\n\u001b[1;32m    296\u001b[0m     \u001b[38;5;28;01mwith\u001b[39;00m \u001b[38;5;28mopen\u001b[39m(retained_cl, \u001b[38;5;124m\"\u001b[39m\u001b[38;5;124mwt\u001b[39m\u001b[38;5;124m\"\u001b[39m) \u001b[38;5;28;01mas\u001b[39;00m f:\n\u001b[1;32m    297\u001b[0m         f\u001b[38;5;241m.\u001b[39mwrite(\u001b[38;5;124m\"\u001b[39m\u001b[38;5;124m \u001b[39m\u001b[38;5;124m\"\u001b[39m\u001b[38;5;241m.\u001b[39mjoin(cl))\n\u001b[0;32m--> 299\u001b[0m result \u001b[38;5;241m=\u001b[39m \u001b[43minvoke_immediate\u001b[49m\u001b[43m(\u001b[49m\u001b[43mcl\u001b[49m\u001b[43m,\u001b[49m\u001b[43m \u001b[49m\u001b[43mimmediate_input\u001b[49m\u001b[38;5;241;43m=\u001b[39;49m\u001b[43minput_bytes\u001b[49m\u001b[43m)\u001b[49m\n\u001b[1;32m    300\u001b[0m \u001b[38;5;28;01mif\u001b[39;00m options\u001b[38;5;241m.\u001b[39moutput_file:\n\u001b[1;32m    301\u001b[0m     \u001b[38;5;28;01mreturn\u001b[39;00m \u001b[38;5;28;01mNone\u001b[39;00m\n",
      "File \u001b[0;32m/mnt/home/douliyang/mlir-workspace/iree-tutorial/myenv/lib/python3.11/site-packages/iree/compiler/tools/binaries.py:199\u001b[0m, in \u001b[0;36minvoke_immediate\u001b[0;34m(command_line, input_file, immediate_input)\u001b[0m\n\u001b[1;32m    197\u001b[0m process \u001b[38;5;241m=\u001b[39m subprocess\u001b[38;5;241m.\u001b[39mrun(command_line, capture_output\u001b[38;5;241m=\u001b[39m\u001b[38;5;28;01mTrue\u001b[39;00m, \u001b[38;5;241m*\u001b[39m\u001b[38;5;241m*\u001b[39mrun_args)\n\u001b[1;32m    198\u001b[0m \u001b[38;5;28;01mif\u001b[39;00m process\u001b[38;5;241m.\u001b[39mreturncode \u001b[38;5;241m!=\u001b[39m \u001b[38;5;241m0\u001b[39m:\n\u001b[0;32m--> 199\u001b[0m     \u001b[38;5;28;01mraise\u001b[39;00m CompilerToolError(process)\n\u001b[1;32m    200\u001b[0m \u001b[38;5;66;03m# Emit stderr contents.\u001b[39;00m\n\u001b[1;32m    201\u001b[0m _write_binary_stderr(stderr_handle, process\u001b[38;5;241m.\u001b[39mstderr)\n",
      "\u001b[0;31mCompilerToolError\u001b[0m: Error invoking IREE compiler tool iree-compile\nError code: 1\nDiagnostics:\n/mnt/home/douliyang/mlir-workspace/iree-tutorial/myenv/lib/python3.11/site-packages/iree/compiler/tools/../_mlir_libs/iree-compile: /mnt/home/tools/xilinx/Vitis_HLS/2021.2/lib/lnx64.o/Default/libstdc++.so.6: version `CXXABI_1.3.11' not found (required by /mnt/home/douliyang/mlir-workspace/iree-tutorial/myenv/lib/python3.11/site-packages/iree/compiler/_mlir_libs/libIREECompiler.so)\n\n\nInvoked with:\n iree-compile /mnt/home/douliyang/mlir-workspace/iree-tutorial/myenv/lib/python3.11/site-packages/iree/compiler/tools/../_mlir_libs/iree-compile - --iree-input-type=auto --iree-vm-bytecode-module-output-format=flatbuffer-binary --iree-hal-target-backends=llvm-cpu --iree-llvmcpu-embedded-linker-path=/mnt/home/douliyang/mlir-workspace/iree-tutorial/myenv/lib/python3.11/site-packages/iree/compiler/tools/../_mlir_libs/iree-lld --mlir-print-debuginfo --mlir-print-op-on-diagnostic=false --mlir-timing\n\nNeed more information? Set IREE_SAVE_TEMPS=/some/dir in your environment to save all artifacts and reproducers.\n"
     ]
    }
   ],
   "source": [
    "import iree.compiler as ireec\n",
    "\n",
    "input_mlir = \"\"\"\n",
    "func.func @abs(%input : tensor<f32>) -> (tensor<f32>) {\n",
    "  %result = math.absf %input : tensor<f32>\n",
    "  return %result : tensor<f32>\n",
    "}\"\"\"\n",
    "\n",
    "compiled_module = ireec.tools.compile_str(\n",
    "    input_mlir,\n",
    "    target_backends=[\"llvm-cpu\"],\n",
    "    extra_args=[\"--mlir-timing\"])"
   ]
  },
  {
   "cell_type": "code",
   "execution_count": null,
   "id": "28f8b6ed-b3be-4199-9962-517304d15144",
   "metadata": {},
   "outputs": [],
   "source": []
  }
 ],
 "metadata": {
  "kernelspec": {
   "display_name": "myenv",
   "language": "python",
   "name": "myenv"
  },
  "language_info": {
   "codemirror_mode": {
    "name": "ipython",
    "version": 3
   },
   "file_extension": ".py",
   "mimetype": "text/x-python",
   "name": "python",
   "nbconvert_exporter": "python",
   "pygments_lexer": "ipython3",
   "version": "3.11.9"
  }
 },
 "nbformat": 4,
 "nbformat_minor": 5
}
