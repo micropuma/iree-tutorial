{
 "cells": [
  {
   "cell_type": "code",
   "execution_count": 2,
   "id": "37d5f6ed-39d6-4831-a04a-1dce4960502a",
   "metadata": {},
   "outputs": [
    {
     "name": "stderr",
     "output_type": "stream",
     "text": [
      "2024-12-03 19:07:10.757564: I tensorflow/core/util/port.cc:153] oneDNN custom operations are on. You may see slightly different numerical results due to floating-point round-off errors from different computation orders. To turn them off, set the environment variable `TF_ENABLE_ONEDNN_OPTS=0`.\n",
      "2024-12-03 19:07:10.775193: E external/local_xla/xla/stream_executor/cuda/cuda_fft.cc:477] Unable to register cuFFT factory: Attempting to register factory for plugin cuFFT when one has already been registered\n",
      "WARNING: All log messages before absl::InitializeLog() is called are written to STDERR\n",
      "E0000 00:00:1733224030.794366 2096427 cuda_dnn.cc:8310] Unable to register cuDNN factory: Attempting to register factory for plugin cuDNN when one has already been registered\n",
      "E0000 00:00:1733224030.800238 2096427 cuda_blas.cc:1418] Unable to register cuBLAS factory: Attempting to register factory for plugin cuBLAS when one has already been registered\n",
      "2024-12-03 19:07:10.821536: I tensorflow/core/platform/cpu_feature_guard.cc:210] This TensorFlow binary is optimized to use available CPU instructions in performance-critical operations.\n",
      "To enable the following instructions: AVX2 AVX512F AVX512_VNNI FMA, in other operations, rebuild TensorFlow with the appropriate compiler flags.\n"
     ]
    }
   ],
   "source": [
    "import tensorflow.compat.v2 as tf"
   ]
  },
  {
   "cell_type": "code",
   "execution_count": 4,
   "id": "e3936168-8a68-4ba7-ae8b-f9281ba05e1d",
   "metadata": {},
   "outputs": [
    {
     "name": "stdout",
     "output_type": "stream",
     "text": [
      "INFO:tensorflow:Assets written to: /home/douliyang/large/mlir-workspace/iree-tutorial/model/mobilenet-v2/assets\n"
     ]
    },
    {
     "name": "stderr",
     "output_type": "stream",
     "text": [
      "INFO:tensorflow:Assets written to: /home/douliyang/large/mlir-workspace/iree-tutorial/model/mobilenet-v2/assets\n"
     ]
    }
   ],
   "source": [
    "loaded_model = tf.saved_model.load('/home/douliyang/large/mlir-workspace/iree-tutorial/model/mobilenet-v2')\n",
    "call = loaded_model.__call__.get_concrete_function(\n",
    "         tf.TensorSpec([1, 224, 224, 3], tf.float32))\n",
    "signatures = {'predict': call}\n",
    "tf.saved_model.save(loaded_model,\n",
    "  '/home/douliyang/large/mlir-workspace/iree-tutorial/model/mobilenet-v2', signatures=signatures)"
   ]
  },
  {
   "cell_type": "code",
   "execution_count": 5,
   "id": "6eed99d7-9106-4db6-805a-ec12a9a6200c",
   "metadata": {},
   "outputs": [
    {
     "name": "stdout",
     "output_type": "stream",
     "text": [
      "['predict']\n"
     ]
    }
   ],
   "source": [
    "loaded_model = tf.saved_model.load('/home/douliyang/large/mlir-workspace/iree-tutorial/model/mobilenet-v2')\n",
    "print(list(loaded_model.signatures.keys()))"
   ]
  },
  {
   "cell_type": "code",
   "execution_count": 6,
   "id": "1756f82d-03f0-49ed-a548-27a452341083",
   "metadata": {},
   "outputs": [
    {
     "name": "stdout",
     "output_type": "stream",
     "text": [
      "2024-12-03 19:08:57.044138: I tensorflow/core/util/port.cc:153] oneDNN custom operations are on. You may see slightly different numerical results due to floating-point round-off errors from different computation orders. To turn them off, set the environment variable `TF_ENABLE_ONEDNN_OPTS=0`.\n",
      "2024-12-03 19:08:57.059416: E external/local_xla/xla/stream_executor/cuda/cuda_fft.cc:477] Unable to register cuFFT factory: Attempting to register factory for plugin cuFFT when one has already been registered\n",
      "WARNING: All log messages before absl::InitializeLog() is called are written to STDERR\n",
      "E0000 00:00:1733224137.077039 2102121 cuda_dnn.cc:8310] Unable to register cuDNN factory: Attempting to register factory for plugin cuDNN when one has already been registered\n",
      "E0000 00:00:1733224137.082107 2102121 cuda_blas.cc:1418] Unable to register cuBLAS factory: Attempting to register factory for plugin cuBLAS when one has already been registered\n",
      "2024-12-03 19:08:57.100642: I tensorflow/core/platform/cpu_feature_guard.cc:210] This TensorFlow binary is optimized to use available CPU instructions in performance-critical operations.\n",
      "To enable the following instructions: AVX2 AVX512F AVX512_VNNI FMA, in other operations, rebuild TensorFlow with the appropriate compiler flags.\n",
      "2024-12-03 19:08:58.643944: I tensorflow/cc/saved_model/reader.cc:83] Reading SavedModel from: /home/douliyang/large/mlir-workspace/iree-tutorial/model/mobilenet-v2\n",
      "2024-12-03 19:08:58.659583: I tensorflow/cc/saved_model/reader.cc:52] Reading meta graph with tags { serve }\n",
      "2024-12-03 19:08:58.659617: I tensorflow/cc/saved_model/reader.cc:147] Reading SavedModel debug info (if present) from: /home/douliyang/large/mlir-workspace/iree-tutorial/model/mobilenet-v2\n",
      "W0000 00:00:1733224139.297753 2102121 gpu_device.cc:2344] Cannot dlopen some GPU libraries. Please make sure the missing libraries mentioned above are installed properly if you would like to use GPU. Follow the guide at https://www.tensorflow.org/install/gpu for how to download and setup the required libraries for your platform.\n",
      "Skipping registering GPU devices...\n",
      "WARNING: All log messages before absl::InitializeLog() is called are written to STDERR\n",
      "I0000 00:00:1733224139.391496 2102121 mlir_graph_optimization_pass.cc:401] MLIR V1 optimization pass is not enabled\n",
      "2024-12-03 19:08:59.414313: I tensorflow/cc/saved_model/loader.cc:236] Restoring SavedModel bundle.\n",
      "2024-12-03 19:08:59.849961: I tensorflow/cc/saved_model/loader.cc:220] Running initialization op on SavedModel bundle at path: /home/douliyang/large/mlir-workspace/iree-tutorial/model/mobilenet-v2\n",
      "2024-12-03 19:09:00.020106: I tensorflow/cc/saved_model/loader.cc:466] SavedModel load for tags { serve }; Status: success: OK. Took 1376186 microseconds.\n",
      "2024-12-03 19:09:00.088617: I tensorflow/compiler/mlir/tensorflow/utils/dump_mlir_util.cc:268] disabling MLIR crash reproducer, set env var `MLIR_CRASH_REPRODUCER_DIRECTORY` to enable.\n"
     ]
    }
   ],
   "source": [
    "!iree-import-tf \\\n",
    "  --tf-import-type=savedmodel_v1 \\\n",
    "  --tf-savedmodel-exported-names=predict \\\n",
    "  /home/douliyang/large/mlir-workspace/iree-tutorial/model/mobilenet-v2 -o iree_input.mlir"
   ]
  },
  {
   "cell_type": "code",
   "execution_count": 8,
   "id": "824ba79a-e979-4c32-a444-a19d783ed427",
   "metadata": {},
   "outputs": [],
   "source": [
    "!iree-compile \\\n",
    "    --iree-hal-target-backends=cuda \\\n",
    "    --iree-cuda-target=sm_86 \\\n",
    "    iree_input.mlir -o mobilenet_cuda.vmfb"
   ]
  },
  {
   "cell_type": "code",
   "execution_count": 9,
   "id": "b42757b3-a25a-4ec2-8e7a-a16e07808012",
   "metadata": {},
   "outputs": [
    {
     "name": "stdout",
     "output_type": "stream",
     "text": [
      "EXEC @predict\n",
      "result[0]: hal.buffer_view\n",
      "1x1001xf32=[-0.190896 -0.368495 0.791366 -0.536175 0.836177 2.03093 0.444975 0.633471 -0.52778 -0.220641 -0.284229 -0.575583 -0.75141 -0.864841 -1.04724 -0.14838 -0.5843 0.802287 -0.587424 -0.302664 -1.79424 -1.12465 1.87333 2.91976 1.25541 -0.210684 -0.250524 -0.562352 -1.60437 -0.23303 0.325934 0.724321 1.30018 0.103095 -0.213149 1.96294 -1.45143 -0.187634 -0.609063 -0.168662 -1.18992 -0.608314 -0.386122 -0.0878132 0.734984 -0.643625 -0.887488 -0.624094 -1.48707 -0.399353 -0.226703 0.748592 -0.136391 1.01801 0.778209 1.5221 -1.43791 -1.03928 -0.174579 0.219547 0.76114 1.76436 -0.125505 0.64919 -0.294448 -0.0183733 0.24737 -0.271909 -1.10309 0.929539 1.3333 -0.0224847 1.13154 -0.579985 0.800653 -1.47004 1.11697 0.236539 -0.00632849 0.772746 -0.844061 0.865322 -1.19403 0.346387 -0.229971 -1.19672 -0.252986 -0.883019 -1.21736 -0.620748 -0.0770344 -1.26719 -0.0454472 -0.41274 -0.83527 -1.14898 -0.939296 -0.859859 -1.02453 0.0517 1.49961 0.592278 1.43123 -0.608992 -0.947606 -0.883433 -0.757825 0.349987 2.39132 0.253086 0.260952 -0.203605 3.33247 0.108575 0.500154 0.367021 -0.832467 -1.77167 0.330969 -1.83754 -0.628501 -0.725767 -0.956697 -0.59643 -2.02017 -1.12345 -1.42533 -0.624115 0.833952 -0.0605682 -0.63642 -0.966186 -0.908742 0.0787102 0.18354 -0.840174 0.201848 -0.646292 0.000354096 0.466593 -1.58104 -1.30929 -0.102589 1.08069 -0.850139 1.2651 -0.741269 0.641506 0.591148 1.0006 0.44661 -1.41873 -0.244718 -0.744256 -1.5498 -0.866247 -0.532418 -0.78424 -1.07258 -1.55361 -0.491792 -0.954271 0.114936 1.18277 -0.59102 0.971773 -0.146817 0.827291 -0.0992354 0.48673 -0.553068 -0.945185 -0.32967 0.292468 -1.0221 0.213832 0.356315 -0.246828 -1.41258 1.51568 -0.607972 -0.18485 -1.05447 -0.969512 0.0201403 0.271576 0.487747 -0.610786 0.908038 -1.17318 0.309781 0.0868684 0.546357 -0.495584 -0.829146 0.373435 -0.240076 0.059275 -0.18196 -1.11508 -0.171612 0.172692 0.35068 1.01892 -0.378042 0.585122 -0.386282 -1.00023 -0.194408 -0.441272 0.851099 0.0648997 -1.27332 0.244601 -0.647347 -0.782689 -0.0279828 -0.888776 0.814259 -0.597246 0.796851 0.492521 -0.110197 -1.07816 0.466146 0.283988 -0.142794 -2.34713 -0.775416 -1.1939 -0.605395 -0.0497549 -0.162028 -0.623542 -1.52553 0.0411715 -0.0818473 0.830075 -1.31486 0.208135 0.515344 -0.342511 -0.454455 0.128712 -0.821155 0.0065191 0.10437 0.0734616 0.0526991 0.0907662 0.74536 0.784636 1.14253 -0.0201678 -1.47048 0.0151265 -0.64743 0.0871044 0.0991124 1.24823 0.0229693 0.52318 0.498026 -0.521586 -0.664455 0.915718 -0.383106 -0.937034 0.72344 -1.22571 0.160293 0.170791 -0.573839 -1.0001 -1.01623 -0.379351 0.659935 0.21168 -0.450346 -0.303042 -0.268006 0.587072 -0.183693 -0.0789002 0.925638 0.154797 0.729837 -1.44926 -0.841217 -0.58973 -1.12194 -0.90362 -0.448157 -1.16468 -0.0817346 1.15279 0.498295 0.298891 1.41448 -0.920403 -0.264601 -1.98148 1.78685 -0.589585 0.46931 -0.58297 -1.11885 0.40533 -0.596024 0.750091 -0.0927406 0.955851 0.128387 -0.791863 -0.807163 -0.339607 -0.331659 -0.0516975 -0.343438 0.00182641 -1.61529 -0.631947 -0.943511 -0.978803 -0.891278 0.126929 -0.895725 -0.233868 0.722965 -0.547388 -1.7152 -0.782589 -1.16353 -0.570603 -0.0428871 -0.273549 -1.18286 -0.480473 -1.45356 -0.965123 -0.479234 -0.898736 -1.37886 -0.711478 -1.3953 -1.50325 -0.388918 -0.327221 -0.0904867 -0.54928 -1.29653 -1.36952 -0.202791 -0.143191 -0.554646 1.78377 -1.36231 -0.613903 0.106487 -1.0048 -0.330417 -1.47697 -0.65863 0.30886 0.133817 0.488822 -2.09568 0.105261 -0.32172 -0.937229 -1.97861 -1.11413 -2.18422 -0.815216 -1.15057 0.755201 -0.817948 -0.771058 -0.547194 -1.12958 -1.86251 -0.808119 -1.43595 -1.68389 -1.05687 -1.62715 0.774379 0.159226 -0.813781 -0.759709 0.11031 -0.025196 -0.466974 0.20947 -0.155873 -1.73888 -0.307333 -0.58143 -0.486205 -0.766988 1.87476 -0.837604 1.35786 1.959 -0.515305 1.40659 1.00447 -2.52815 -1.21516 -1.52032 1.15309 -1.10827 -2.59931 -1.25419 -1.54932 -1.30624 -2.51298 -0.0747742 1.50487 0.289221 0.804227 -0.511018 1.30846 -1.26303 0.913804 0.0398187 2.146 1.0761 0.289602 0.455802 -0.887065 -1.2465 -0.942602 -0.112773 -0.590984 0.297166 -0.207679 -0.43019 2.83093 -1.85038 -0.274092 -0.0251077 0.751733 0.461822 0.087466 -0.290575 -0.813103 -0.793672 0.779451 1.00919 -0.244019 -1.75355 -0.00846447 -1.36569 0.602807 0.0642448 0.993698 -1.51327 0.0505859 -0.551276 0.249801 -1.40203 0.20482 0.156212 -1.3437 -0.962048 -0.0241569 -0.217412 -0.981151 -0.202431 0.17529 4.27599 0.184249 0.40319 0.551011 0.299869 0.958917 -1.24411 -1.28679 -0.626795 -0.0223996 1.04076 0.684253 -0.662724 -0.552845 1.09157 1.22363 1.24993 -0.12008 2.57357 -0.28222 0.759781 -1.40365 -0.366229 -0.669361 0.241606 -0.229457 -0.658624 -0.0848475 3.14216 0.130261 -0.491823 0.951946 -1.05806 -1.13933 0.109084 0.678128 1.46603 1.39403 1.44267 -2.63298 0.720408 0.727978 -0.402707 0.231568 -0.437417 0.990104 -0.795462 3.56313 -1.11675 0.259519 -1.31151 0.266962 -1.54173 -0.33027 -0.937906 -1.10313 -0.370709 -0.0119386 0.823588 -0.955673 4.89647 1.50126 0.00513318 0.713459 2.33402 -0.568886 0.373635 1.22872 0.0800856 -1.20924 0.986429 0.318963 1.79483 -1.85647 -0.916726 2.17438 1.15389 -0.292954 -1.49123 -0.269636 -1.45263 -0.083462 -0.668096 -0.315114 0.534765 -0.640518 2.26625 2.07245 -0.308805 1.59844 -0.14911 -0.650777 2.31291 -0.56181 -0.355974 -0.604933 -0.626188 -0.211096 -0.482324 0.0388018 0.986863 -0.0110095 -1.49472 -0.47016 2.26179 -2.06426 -0.558592 1.18442 1.10285 2.20871 -0.576079 -0.199852 -1.49592 0.340898 -2.5144 1.76779 -2.0613 1.19088 0.164534 -0.888912 0.0993822 -0.470604 0.443548 1.91926 -0.390114 0.738592 1.90012 -1.80809 1.25114 1.39107 1.21053 -0.171506 -0.280572 -0.468604 2.78008 1.32525 0.596809 1.99163 0.906438 -0.980912 0.977324 2.19636 -1.44884 -0.34916 -0.452793 -0.623785 2.2451 -0.5693 -0.923414 4.51986 2.13416 -1.59654 2.37688 -0.172126 -1.12338 -0.246688 2.52243 -1.84698 -0.119952 0.881551 -0.0817083 -1.07234 3.69454 0.843651 -0.38567 -0.585671 -1.03303 -0.766238 -1.16308 0.148442 -0.151971 -2.20562 -0.15811 1.8734 4.73846 1.83429 -0.153536 -1.30887 -0.118617 1.7386 1.54976 -1.4699 -1.04664 -0.313399 -0.715254 1.11668 -0.479011 0.174015 -1.53855 -1.60146 0.338249 -1.7636 -0.692204 -1.13123 1.84612 -0.805444 -0.570813 -1.52656 -0.615713 -0.0996011 -0.53979 -1.66061 0.835972 0.177921 0.895987 -2.57784 -0.0311712 2.54602 -0.0861574 -1.76929 0.373071 1.16006 1.53273 2.45588 -0.0633887 1.51063 0.154592 -1.6507 0.499544 1.24301 -1.37845 -0.355718 -1.73216 -0.880228 1.05028 1.01407 -0.817457 -0.331212 -0.51952 -0.296099 -0.0619978 1.61539 -1.5411 0.176473 0.339177 -0.988906 -0.154582 0.279908 0.400584 -2.27313 0.855855 1.9752 -1.36452 0.964481 2.60737 -0.966372 3.11251 -1.64319 -0.477744 0.690199 2.66444 -2.57749 1.6766 -0.684627 -0.722484 -0.103529 -1.55248 0.99876 -1.47618 -0.128045 0.20581 0.803137 -0.131583 0.650291 -1.17877 0.45051 2.75636 -0.147619 -0.75339 -1.36478 -0.935427 -0.408959 -0.391142 0.927474 -0.168324 3.04583 0.972503 0.227093 -2.4218 0.926835 1.61744 -0.943527 -0.537514 1.3525 -1.46861 2.0342 -0.201706 0.0348349 -2.19362 1.58955 1.83485 1.28735 0.448403 0.722072 -0.482552 -0.191553 -0.762794 1.94438 -1.03247 0.693164 -1.20311 0.654653 0.439693 2.05824 -1.18346 -0.336705 0.272062 -1.84557 -0.859744 -0.929068 -0.33851 0.546022 0.86269 3.72858 2.10235 -0.611243 -0.520704 -1.10669 -1.80102 2.67613 -2.91629 0.395352 0.436693 -0.372212 1.32958 -0.808126 0.0367331 -0.158327 -0.831404 0.554467 -0.500167 -1.4439 0.697091 -0.422274 0.0380741 1.0145 -0.985776 0.514446 0.281583 -0.816487 1.15476 3.0417 2.02741 -0.271382 -0.699044 -0.536514 -4.43365 -0.903589 7.15113 2.52323 -0.982436 -1.26206 0.582433 -0.47967 0.405728 -0.36794 2.63837 1.98313 0.52117 -0.178552 -1.17892 0.650543 -0.930522 -1.60471 0.929443 -0.499954 -0.285934 0.300137 -1.20956 0.364262 -0.766076 -0.496184 -1.11708 0.311729 4.11737 2.21713 2.01644 -1.03468 -0.596616 -1.19563 0.858617 1.96791 2.78046 -0.495118 4.67363 0.133879 -0.232699 0.759781 1.80134 0.640906 -1.29645 1.29006 2.83154 1.74228 0.0532572 -1.8454 -0.847069 -0.9372 -1.92729 -0.479986 -1.29954 -0.670819 2.33703 0.0500699 0.137098 -1.09581 0.213901 -0.326484 -0.697057 0.50685 0.0600948 1.05558 1.40149 0.94499 1.31169 3.93608 -1.04649 -0.81726 -0.263818 1.59293 -1.40101 -0.242571 3.84813 1.38293 0.322638 0.784096 0.679642 0.87516 0.582966 -0.694308 0.346545 0.155351 0.400284 1.37644 0.766501 3.85151 -0.890526 1.87006 3.69219 -1.55624 1.19391 0.537369 0.364954 1.91056 0.383728 -0.0792367 0.50907 -0.411023 -0.644095 0.0660042 3.32591 -0.59251 -0.453466 -2.15947 -2.04266 -1.5294 0.474104 -0.581493 -1.70598 0.0546519 -0.877847 -1.42201 -0.787252 -0.87243 -2.13913 -0.377495 0.198695 -0.182945 -0.0352251 -1.17508 -0.946527 0.00143319 -0.043621 -1.38209 -0.968293 0.307293 -0.356898 -1.02712 0.929854 -0.00997964 0.197352 1.11202 -0.445473 -0.810236 2.19477 -0.303915 -0.74247 0.605591 2.81588 -0.454351 -1.27952 -1.53598 -0.63153 -0.949797 -0.470621 -1.25743 2.76662 0.91528 2.19608 0.137937 1.18943 3.12487 0.692363 0.775932 1.75673 -0.0207846 0.59291 1.62998 2.16143 -0.169865 2.16122 -0.0477708 -0.806078 1.67638 3.28548 1.65577 -0.119444 -0.56475 0.209963 -0.447304 0.268956 0.704389 -1.07119 -0.068745 -1.49348 0.459537 0.112508 -0.858179 -1.12986 1.35115]\n"
     ]
    }
   ],
   "source": [
    "!iree-run-module \\\n",
    "    --device=cuda \\\n",
    "    --module=mobilenet_cuda.vmfb \\\n",
    "    --function=predict \\\n",
    "    --input=\"1x224x224x3xf32=0\""
   ]
  }
 ],
 "metadata": {
  "kernelspec": {
   "display_name": "myenv",
   "language": "python",
   "name": "myenv"
  },
  "language_info": {
   "codemirror_mode": {
    "name": "ipython",
    "version": 3
   },
   "file_extension": ".py",
   "mimetype": "text/x-python",
   "name": "python",
   "nbconvert_exporter": "python",
   "pygments_lexer": "ipython3",
   "version": "3.11.9"
  }
 },
 "nbformat": 4,
 "nbformat_minor": 5
}
