{
 "cells": [
  {
   "cell_type": "code",
   "execution_count": 1,
   "id": "34bb8634-9a98-4853-bb4c-03dd3e6652fb",
   "metadata": {},
   "outputs": [
    {
     "name": "stdout",
     "output_type": "stream",
     "text": [
      "Installed kernelspec myenv in /home/douliyang/.local/share/jupyter/kernels/myenv\n"
     ]
    }
   ],
   "source": [
    "!python -m ipykernel install --user --name=myenv"
   ]
  },
  {
   "cell_type": "code",
   "execution_count": 1,
   "id": "f757ebcf-2a84-469a-bdf8-c46cd02e1790",
   "metadata": {},
   "outputs": [],
   "source": [
    "from iree import compiler as ireec"
   ]
  },
  {
   "cell_type": "code",
   "execution_count": 2,
   "id": "fba28e8b-9047-41b8-ad2f-389758b980d2",
   "metadata": {},
   "outputs": [],
   "source": [
    "# Compile a module.\n",
    "INPUT_MLIR = \"\"\"\n",
    "module @arithmetic {\n",
    "  func.func @simple_mul(%arg0: tensor<4xf32>, %arg1: tensor<4xf32>) -> tensor<4xf32> {\n",
    "    %0 = arith.mulf %arg0, %arg1 : tensor<4xf32>\n",
    "    return %0 : tensor<4xf32>\n",
    "  }\n",
    "}\n",
    "\"\"\""
   ]
  },
  {
   "cell_type": "code",
   "execution_count": 3,
   "id": "2300669b-2b19-4079-b0a0-c445a146dfa6",
   "metadata": {},
   "outputs": [],
   "source": [
    "# Compile using the CUDA backend\n",
    "compiled_flatbuffer = ireec.tools.compile_str(\n",
    "    INPUT_MLIR,\n",
    "    target_backends=[\"cuda\"]  # Specify CUDA backend\n",
    ")"
   ]
  },
  {
   "cell_type": "code",
   "execution_count": 4,
   "id": "6ffe15b2-dece-41f5-9c60-4519c87eddda",
   "metadata": {},
   "outputs": [],
   "source": [
    "from iree import runtime as ireert\n",
    "import numpy as np"
   ]
  },
  {
   "cell_type": "code",
   "execution_count": 6,
   "id": "c2e28be8-941a-431f-8ffe-5bd7be8c8d15",
   "metadata": {},
   "outputs": [
    {
     "name": "stdout",
     "output_type": "stream",
     "text": [
      "INVOKE simple_mul\n",
      "Results: [ 4. 10. 18. 28.]\n"
     ]
    }
   ],
   "source": [
    "# Register the module with a runtime context.\n",
    "# Use the \"cuda\" driver for executing on NVIDIA GPU\n",
    "config = ireert.Config(\"cuda\")  # 指定使用 CUDA 驱动\n",
    "ctx = ireert.SystemContext(config=config)\n",
    "\n",
    "# Load the compiled flatbuffer (compiled with the CUDA backend)\n",
    "vm_module = ireert.VmModule.copy_buffer(ctx.instance, compiled_flatbuffer)\n",
    "ctx.add_vm_module(vm_module)\n",
    "\n",
    "# Invoke the function and print the result\n",
    "print(\"INVOKE simple_mul\")\n",
    "arg0 = np.array([1., 2., 3., 4.], dtype=np.float32)  # 输入张量 1\n",
    "arg1 = np.array([4., 5., 6., 7.], dtype=np.float32)  # 输入张量 2\n",
    "f = ctx.modules.arithmetic[\"simple_mul\"]  # 调用 simple_mul 函数\n",
    "results = f(arg0, arg1).to_host()  # 执行并获取结果\n",
    "print(\"Results:\", results)"
   ]
  },
  {
   "cell_type": "code",
   "execution_count": null,
   "id": "c217aaa6-1d74-4f93-b3e7-0bd95c3d40b4",
   "metadata": {},
   "outputs": [],
   "source": []
  }
 ],
 "metadata": {
  "kernelspec": {
   "display_name": "myenv",
   "language": "python",
   "name": "myenv"
  },
  "language_info": {
   "codemirror_mode": {
    "name": "ipython",
    "version": 3
   },
   "file_extension": ".py",
   "mimetype": "text/x-python",
   "name": "python",
   "nbconvert_exporter": "python",
   "pygments_lexer": "ipython3",
   "version": "3.11.9"
  }
 },
 "nbformat": 4,
 "nbformat_minor": 5
}
