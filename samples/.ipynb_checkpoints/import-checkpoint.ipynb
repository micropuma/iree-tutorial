{
 "cells": [
  {
   "cell_type": "code",
   "execution_count": 2,
   "id": "37d5f6ed-39d6-4831-a04a-1dce4960502a",
   "metadata": {},
   "outputs": [
    {
     "name": "stderr",
     "output_type": "stream",
     "text": [
      "2024-12-03 19:07:10.757564: I tensorflow/core/util/port.cc:153] oneDNN custom operations are on. You may see slightly different numerical results due to floating-point round-off errors from different computation orders. To turn them off, set the environment variable `TF_ENABLE_ONEDNN_OPTS=0`.\n",
      "2024-12-03 19:07:10.775193: E external/local_xla/xla/stream_executor/cuda/cuda_fft.cc:477] Unable to register cuFFT factory: Attempting to register factory for plugin cuFFT when one has already been registered\n",
      "WARNING: All log messages before absl::InitializeLog() is called are written to STDERR\n",
      "E0000 00:00:1733224030.794366 2096427 cuda_dnn.cc:8310] Unable to register cuDNN factory: Attempting to register factory for plugin cuDNN when one has already been registered\n",
      "E0000 00:00:1733224030.800238 2096427 cuda_blas.cc:1418] Unable to register cuBLAS factory: Attempting to register factory for plugin cuBLAS when one has already been registered\n",
      "2024-12-03 19:07:10.821536: I tensorflow/core/platform/cpu_feature_guard.cc:210] This TensorFlow binary is optimized to use available CPU instructions in performance-critical operations.\n",
      "To enable the following instructions: AVX2 AVX512F AVX512_VNNI FMA, in other operations, rebuild TensorFlow with the appropriate compiler flags.\n"
     ]
    }
   ],
   "source": [
    "import tensorflow.compat.v2 as tf"
   ]
  },
  {
   "cell_type": "code",
   "execution_count": 4,
   "id": "e3936168-8a68-4ba7-ae8b-f9281ba05e1d",
   "metadata": {},
   "outputs": [
    {
     "name": "stdout",
     "output_type": "stream",
     "text": [
      "INFO:tensorflow:Assets written to: /home/douliyang/large/mlir-workspace/iree-tutorial/model/mobilenet-v2/assets\n"
     ]
    },
    {
     "name": "stderr",
     "output_type": "stream",
     "text": [
      "INFO:tensorflow:Assets written to: /home/douliyang/large/mlir-workspace/iree-tutorial/model/mobilenet-v2/assets\n"
     ]
    }
   ],
   "source": [
    "loaded_model = tf.saved_model.load('/home/douliyang/large/mlir-workspace/iree-tutorial/model/mobilenet-v2')\n",
    "call = loaded_model.__call__.get_concrete_function(\n",
    "         tf.TensorSpec([1, 224, 224, 3], tf.float32))\n",
    "signatures = {'predict': call}\n",
    "tf.saved_model.save(loaded_model,\n",
    "  '/home/douliyang/large/mlir-workspace/iree-tutorial/model/mobilenet-v2', signatures=signatures)"
   ]
  },
  {
   "cell_type": "code",
   "execution_count": 5,
   "id": "6eed99d7-9106-4db6-805a-ec12a9a6200c",
   "metadata": {},
   "outputs": [
    {
     "name": "stdout",
     "output_type": "stream",
     "text": [
      "['predict']\n"
     ]
    }
   ],
   "source": [
    "loaded_model = tf.saved_model.load('/home/douliyang/large/mlir-workspace/iree-tutorial/model/mobilenet-v2')\n",
    "print(list(loaded_model.signatures.keys()))"
   ]
  },
  {
   "cell_type": "code",
   "execution_count": 6,
   "id": "1756f82d-03f0-49ed-a548-27a452341083",
   "metadata": {},
   "outputs": [
    {
     "name": "stdout",
     "output_type": "stream",
     "text": [
      "2024-12-03 19:08:57.044138: I tensorflow/core/util/port.cc:153] oneDNN custom operations are on. You may see slightly different numerical results due to floating-point round-off errors from different computation orders. To turn them off, set the environment variable `TF_ENABLE_ONEDNN_OPTS=0`.\n",
      "2024-12-03 19:08:57.059416: E external/local_xla/xla/stream_executor/cuda/cuda_fft.cc:477] Unable to register cuFFT factory: Attempting to register factory for plugin cuFFT when one has already been registered\n",
      "WARNING: All log messages before absl::InitializeLog() is called are written to STDERR\n",
      "E0000 00:00:1733224137.077039 2102121 cuda_dnn.cc:8310] Unable to register cuDNN factory: Attempting to register factory for plugin cuDNN when one has already been registered\n",
      "E0000 00:00:1733224137.082107 2102121 cuda_blas.cc:1418] Unable to register cuBLAS factory: Attempting to register factory for plugin cuBLAS when one has already been registered\n",
      "2024-12-03 19:08:57.100642: I tensorflow/core/platform/cpu_feature_guard.cc:210] This TensorFlow binary is optimized to use available CPU instructions in performance-critical operations.\n",
      "To enable the following instructions: AVX2 AVX512F AVX512_VNNI FMA, in other operations, rebuild TensorFlow with the appropriate compiler flags.\n",
      "2024-12-03 19:08:58.643944: I tensorflow/cc/saved_model/reader.cc:83] Reading SavedModel from: /home/douliyang/large/mlir-workspace/iree-tutorial/model/mobilenet-v2\n",
      "2024-12-03 19:08:58.659583: I tensorflow/cc/saved_model/reader.cc:52] Reading meta graph with tags { serve }\n",
      "2024-12-03 19:08:58.659617: I tensorflow/cc/saved_model/reader.cc:147] Reading SavedModel debug info (if present) from: /home/douliyang/large/mlir-workspace/iree-tutorial/model/mobilenet-v2\n",
      "W0000 00:00:1733224139.297753 2102121 gpu_device.cc:2344] Cannot dlopen some GPU libraries. Please make sure the missing libraries mentioned above are installed properly if you would like to use GPU. Follow the guide at https://www.tensorflow.org/install/gpu for how to download and setup the required libraries for your platform.\n",
      "Skipping registering GPU devices...\n",
      "WARNING: All log messages before absl::InitializeLog() is called are written to STDERR\n",
      "I0000 00:00:1733224139.391496 2102121 mlir_graph_optimization_pass.cc:401] MLIR V1 optimization pass is not enabled\n",
      "2024-12-03 19:08:59.414313: I tensorflow/cc/saved_model/loader.cc:236] Restoring SavedModel bundle.\n",
      "2024-12-03 19:08:59.849961: I tensorflow/cc/saved_model/loader.cc:220] Running initialization op on SavedModel bundle at path: /home/douliyang/large/mlir-workspace/iree-tutorial/model/mobilenet-v2\n",
      "2024-12-03 19:09:00.020106: I tensorflow/cc/saved_model/loader.cc:466] SavedModel load for tags { serve }; Status: success: OK. Took 1376186 microseconds.\n",
      "2024-12-03 19:09:00.088617: I tensorflow/compiler/mlir/tensorflow/utils/dump_mlir_util.cc:268] disabling MLIR crash reproducer, set env var `MLIR_CRASH_REPRODUCER_DIRECTORY` to enable.\n"
     ]
    }
   ],
   "source": [
    "!iree-import-tf \\\n",
    "  --tf-import-type=savedmodel_v1 \\\n",
    "  --tf-savedmodel-exported-names=predict \\\n",
    "  /home/douliyang/large/mlir-workspace/iree-tutorial/model/mobilenet-v2 -o iree_input.mlir"
   ]
  },
  {
   "cell_type": "code",
   "execution_count": null,
   "id": "824ba79a-e979-4c32-a444-a19d783ed427",
   "metadata": {},
   "outputs": [],
   "source": [
    "!iree-compile \\\n",
    "    --iree-hal-target-backends=cuda \\\n",
    "    --iree-cuda-target=<...> \\\n",
    "    iree_input.mlir -o mobilenet_cuda.vmfb"
   ]
  }
 ],
 "metadata": {
  "kernelspec": {
   "display_name": "myenv",
   "language": "python",
   "name": "myenv"
  },
  "language_info": {
   "codemirror_mode": {
    "name": "ipython",
    "version": 3
   },
   "file_extension": ".py",
   "mimetype": "text/x-python",
   "name": "python",
   "nbconvert_exporter": "python",
   "pygments_lexer": "ipython3",
   "version": "3.11.9"
  }
 },
 "nbformat": 4,
 "nbformat_minor": 5
}
