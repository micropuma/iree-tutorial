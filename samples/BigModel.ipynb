{
 "cells": [
  {
   "cell_type": "code",
   "execution_count": 3,
   "id": "1d8b32f5-2eec-451e-b0cb-205a2abcf835",
   "metadata": {},
   "outputs": [
    {
     "name": "stdout",
     "output_type": "stream",
     "text": [
      "Looking in indexes: https://download.pytorch.org/whl/test/cpu\n",
      "Collecting torch==2.4.1\n",
      "  Using cached https://download.pytorch.org/whl/test/cpu/torch-2.4.1%2Bcpu-cp311-cp311-linux_x86_64.whl (194.9 MB)\n",
      "Collecting filelock (from torch==2.4.1)\n",
      "  Using cached https://download.pytorch.org/whl/test/filelock-3.13.1-py3-none-any.whl (11 kB)\n",
      "Requirement already satisfied: typing-extensions>=4.8.0 in /mnt/home/douliyang/mlir-workspace/iree-tutorial/myenv/lib/python3.11/site-packages (from torch==2.4.1) (4.12.2)\n",
      "Collecting sympy (from torch==2.4.1)\n",
      "  Downloading https://download.pytorch.org/whl/test/sympy-1.13.1-py3-none-any.whl (6.2 MB)\n",
      "\u001b[2K     \u001b[38;2;114;156;31m━━━━━━━━━━━━━━━━━━━━━━━━━━━━━━━━━━━━━━━━\u001b[0m \u001b[32m6.2/6.2 MB\u001b[0m \u001b[31m15.3 MB/s\u001b[0m eta \u001b[36m0:00:00\u001b[0mMB/s\u001b[0m eta \u001b[36m0:00:01\u001b[0m\n",
      "\u001b[?25hCollecting networkx (from torch==2.4.1)\n",
      "  Using cached https://download.pytorch.org/whl/test/networkx-3.3-py3-none-any.whl (1.7 MB)\n",
      "Collecting jinja2 (from torch==2.4.1)\n",
      "  Using cached https://download.pytorch.org/whl/test/Jinja2-3.1.4-py3-none-any.whl (133 kB)\n",
      "Collecting fsspec (from torch==2.4.1)\n",
      "  Using cached https://download.pytorch.org/whl/test/fsspec-2024.6.1-py3-none-any.whl (177 kB)\n",
      "Requirement already satisfied: MarkupSafe>=2.0 in /mnt/home/douliyang/mlir-workspace/iree-tutorial/myenv/lib/python3.11/site-packages (from jinja2->torch==2.4.1) (3.0.2)\n",
      "Collecting mpmath<1.4,>=1.1.0 (from sympy->torch==2.4.1)\n",
      "  Downloading https://download.pytorch.org/whl/test/mpmath-1.3.0-py3-none-any.whl (536 kB)\n",
      "\u001b[2K     \u001b[38;2;114;156;31m━━━━━━━━━━━━━━━━━━━━━━━━━━━━━━━━━━━━━━\u001b[0m \u001b[32m536.2/536.2 kB\u001b[0m \u001b[31m21.8 MB/s\u001b[0m eta \u001b[36m0:00:00\u001b[0m\n",
      "\u001b[?25hInstalling collected packages: mpmath, sympy, networkx, jinja2, fsspec, filelock, torch\n",
      "Successfully installed filelock-3.13.1 fsspec-2024.6.1 jinja2-3.1.4 mpmath-1.3.0 networkx-3.3 sympy-1.13.1 torch-2.4.1+cpu\n"
     ]
    }
   ],
   "source": [
    "!python -m pip install --index-url https://download.pytorch.org/whl/test/cpu torch==2.4.1"
   ]
  },
  {
   "cell_type": "code",
   "execution_count": 4,
   "id": "e54bd851-9faa-4c13-a688-db6df02e1af6",
   "metadata": {},
   "outputs": [
    {
     "name": "stdout",
     "output_type": "stream",
     "text": [
      "Collecting iree-turbine\n",
      "  Using cached iree_turbine-3.0.0-py3-none-any.whl.metadata (5.8 kB)\n",
      "Requirement already satisfied: numpy in /mnt/home/douliyang/mlir-workspace/iree-tutorial/myenv/lib/python3.11/site-packages (from iree-turbine) (2.0.2)\n",
      "Collecting iree-base-compiler (from iree-turbine)\n",
      "  Using cached iree_base_compiler-3.0.0-cp311-cp311-manylinux_2_27_x86_64.manylinux_2_28_x86_64.whl.metadata (1.0 kB)\n",
      "Collecting iree-base-runtime (from iree-turbine)\n",
      "  Using cached iree_base_runtime-3.0.0-cp311-cp311-manylinux_2_28_x86_64.whl.metadata (1.0 kB)\n",
      "Requirement already satisfied: torch>=2.3.0 in /mnt/home/douliyang/mlir-workspace/iree-tutorial/myenv/lib/python3.11/site-packages (from iree-turbine) (2.4.1+cpu)\n",
      "Requirement already satisfied: Jinja2>=3.1.3 in /mnt/home/douliyang/mlir-workspace/iree-tutorial/myenv/lib/python3.11/site-packages (from iree-turbine) (3.1.4)\n",
      "Requirement already satisfied: MarkupSafe>=2.0 in /mnt/home/douliyang/mlir-workspace/iree-tutorial/myenv/lib/python3.11/site-packages (from Jinja2>=3.1.3->iree-turbine) (3.0.2)\n",
      "Requirement already satisfied: filelock in /mnt/home/douliyang/mlir-workspace/iree-tutorial/myenv/lib/python3.11/site-packages (from torch>=2.3.0->iree-turbine) (3.13.1)\n",
      "Requirement already satisfied: typing-extensions>=4.8.0 in /mnt/home/douliyang/mlir-workspace/iree-tutorial/myenv/lib/python3.11/site-packages (from torch>=2.3.0->iree-turbine) (4.12.2)\n",
      "Requirement already satisfied: sympy in /mnt/home/douliyang/mlir-workspace/iree-tutorial/myenv/lib/python3.11/site-packages (from torch>=2.3.0->iree-turbine) (1.13.1)\n",
      "Requirement already satisfied: networkx in /mnt/home/douliyang/mlir-workspace/iree-tutorial/myenv/lib/python3.11/site-packages (from torch>=2.3.0->iree-turbine) (3.3)\n",
      "Requirement already satisfied: fsspec in /mnt/home/douliyang/mlir-workspace/iree-tutorial/myenv/lib/python3.11/site-packages (from torch>=2.3.0->iree-turbine) (2024.6.1)\n",
      "Requirement already satisfied: mpmath<1.4,>=1.1.0 in /mnt/home/douliyang/mlir-workspace/iree-tutorial/myenv/lib/python3.11/site-packages (from sympy->torch>=2.3.0->iree-turbine) (1.3.0)\n",
      "Using cached iree_turbine-3.0.0-py3-none-any.whl (274 kB)\n",
      "Using cached iree_base_compiler-3.0.0-cp311-cp311-manylinux_2_27_x86_64.manylinux_2_28_x86_64.whl (71.0 MB)\n",
      "Using cached iree_base_runtime-3.0.0-cp311-cp311-manylinux_2_28_x86_64.whl (8.1 MB)\n",
      "Installing collected packages: iree-base-runtime, iree-base-compiler, iree-turbine\n",
      "Successfully installed iree-base-compiler-3.0.0 iree-base-runtime-3.0.0 iree-turbine-3.0.0\n"
     ]
    }
   ],
   "source": [
    "!python -m pip install iree-turbine"
   ]
  },
  {
   "cell_type": "code",
   "execution_count": null,
   "id": "54bf9ab9-93cd-4242-887f-59e2f25578d0",
   "metadata": {},
   "outputs": [],
   "source": []
  }
 ],
 "metadata": {
  "kernelspec": {
   "display_name": "myenv",
   "language": "python",
   "name": "myenv"
  },
  "language_info": {
   "codemirror_mode": {
    "name": "ipython",
    "version": 3
   },
   "file_extension": ".py",
   "mimetype": "text/x-python",
   "name": "python",
   "nbconvert_exporter": "python",
   "pygments_lexer": "ipython3",
   "version": "3.11.9"
  }
 },
 "nbformat": 4,
 "nbformat_minor": 5
}
