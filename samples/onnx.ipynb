{
 "cells": [
  {
   "cell_type": "code",
   "execution_count": 1,
   "id": "771eb64e-b169-47ea-8ca4-f65c240f2e7f",
   "metadata": {},
   "outputs": [
    {
     "name": "stdout",
     "output_type": "stream",
     "text": [
      "Installed iree-turbine, Version: 3.0.0\n",
      "\n",
      "Installed IREE, compiler version information:\n",
      "IREE (https://iree.dev):\n",
      "  IREE compiler version (unknown)\n",
      "  LLVM version 20.0.0git\n",
      "  Optimized build\n",
      "\n",
      "Installed PyTorch, version: 2.6.0.dev20241112+cu121\n"
     ]
    }
   ],
   "source": [
    "#@title Report version information\n",
    "!echo \"Installed iree-turbine, $(python -m pip show iree_turbine | grep Version)\"\n",
    "\n",
    "!echo -e \"\\nInstalled IREE, compiler version information:\"\n",
    "!iree-compile --version\n",
    "\n",
    "import torch\n",
    "print(\"\\nInstalled PyTorch, version:\", torch.__version__)"
   ]
  },
  {
   "cell_type": "code",
   "execution_count": 2,
   "id": "cc798f9c-821e-422e-9f88-ec628e247f24",
   "metadata": {},
   "outputs": [],
   "source": [
    "#@title 1. Define a program using `torch.nn.Module`\n",
    "torch.manual_seed(0)\n",
    "\n",
    "class LinearModule(torch.nn.Module):\n",
    "  def __init__(self, in_features, out_features):\n",
    "    super().__init__()\n",
    "    self.weight = torch.nn.Parameter(torch.randn(in_features, out_features))\n",
    "    self.bias = torch.nn.Parameter(torch.randn(out_features))\n",
    "\n",
    "  def forward(self, input):\n",
    "    return (input @ self.weight) + self.bias\n",
    "\n",
    "linear_module = LinearModule(4, 3)"
   ]
  },
  {
   "cell_type": "code",
   "execution_count": 5,
   "id": "7c007312-4805-46fa-9770-72fb2c266e29",
   "metadata": {},
   "outputs": [
    {
     "name": "stdout",
     "output_type": "stream",
     "text": [
      "Requirement already satisfied: iree-turbine in /mnt/home/douliyang/mlir-workspace/iree-tutorial/myenv/lib/python3.11/site-packages (3.0.0)\n",
      "Requirement already satisfied: numpy in /mnt/home/douliyang/mlir-workspace/iree-tutorial/myenv/lib/python3.11/site-packages (from iree-turbine) (2.0.2)\n",
      "Requirement already satisfied: iree-base-compiler in /mnt/home/douliyang/mlir-workspace/iree-tutorial/myenv/lib/python3.11/site-packages (from iree-turbine) (3.0.0)\n",
      "Requirement already satisfied: iree-base-runtime in /mnt/home/douliyang/mlir-workspace/iree-tutorial/myenv/lib/python3.11/site-packages (from iree-turbine) (3.0.0)\n",
      "Requirement already satisfied: torch>=2.3.0 in /mnt/home/douliyang/mlir-workspace/iree-tutorial/myenv/lib/python3.11/site-packages (from iree-turbine) (2.6.0.dev20241112+cu121)\n",
      "Requirement already satisfied: Jinja2>=3.1.3 in /mnt/home/douliyang/mlir-workspace/iree-tutorial/myenv/lib/python3.11/site-packages (from iree-turbine) (3.1.4)\n",
      "Requirement already satisfied: MarkupSafe>=2.0 in /mnt/home/douliyang/mlir-workspace/iree-tutorial/myenv/lib/python3.11/site-packages (from Jinja2>=3.1.3->iree-turbine) (3.0.2)\n",
      "Requirement already satisfied: filelock in /mnt/home/douliyang/mlir-workspace/iree-tutorial/myenv/lib/python3.11/site-packages (from torch>=2.3.0->iree-turbine) (3.13.1)\n",
      "Requirement already satisfied: typing-extensions>=4.10.0 in /mnt/home/douliyang/mlir-workspace/iree-tutorial/myenv/lib/python3.11/site-packages (from torch>=2.3.0->iree-turbine) (4.12.2)\n",
      "Requirement already satisfied: networkx in /mnt/home/douliyang/mlir-workspace/iree-tutorial/myenv/lib/python3.11/site-packages (from torch>=2.3.0->iree-turbine) (3.3)\n",
      "Requirement already satisfied: fsspec in /mnt/home/douliyang/mlir-workspace/iree-tutorial/myenv/lib/python3.11/site-packages (from torch>=2.3.0->iree-turbine) (2024.6.1)\n",
      "Requirement already satisfied: nvidia-cuda-nvrtc-cu12==12.1.105 in /mnt/home/douliyang/mlir-workspace/iree-tutorial/myenv/lib/python3.11/site-packages (from torch>=2.3.0->iree-turbine) (12.1.105)\n",
      "Requirement already satisfied: nvidia-cuda-runtime-cu12==12.1.105 in /mnt/home/douliyang/mlir-workspace/iree-tutorial/myenv/lib/python3.11/site-packages (from torch>=2.3.0->iree-turbine) (12.1.105)\n",
      "Requirement already satisfied: nvidia-cuda-cupti-cu12==12.1.105 in /mnt/home/douliyang/mlir-workspace/iree-tutorial/myenv/lib/python3.11/site-packages (from torch>=2.3.0->iree-turbine) (12.1.105)\n",
      "Requirement already satisfied: nvidia-cudnn-cu12==9.1.0.70 in /mnt/home/douliyang/mlir-workspace/iree-tutorial/myenv/lib/python3.11/site-packages (from torch>=2.3.0->iree-turbine) (9.1.0.70)\n",
      "Requirement already satisfied: nvidia-cublas-cu12==12.1.3.1 in /mnt/home/douliyang/mlir-workspace/iree-tutorial/myenv/lib/python3.11/site-packages (from torch>=2.3.0->iree-turbine) (12.1.3.1)\n",
      "Requirement already satisfied: nvidia-cufft-cu12==11.0.2.54 in /mnt/home/douliyang/mlir-workspace/iree-tutorial/myenv/lib/python3.11/site-packages (from torch>=2.3.0->iree-turbine) (11.0.2.54)\n",
      "Requirement already satisfied: nvidia-curand-cu12==10.3.2.106 in /mnt/home/douliyang/mlir-workspace/iree-tutorial/myenv/lib/python3.11/site-packages (from torch>=2.3.0->iree-turbine) (10.3.2.106)\n",
      "Requirement already satisfied: nvidia-cusolver-cu12==11.4.5.107 in /mnt/home/douliyang/mlir-workspace/iree-tutorial/myenv/lib/python3.11/site-packages (from torch>=2.3.0->iree-turbine) (11.4.5.107)\n",
      "Requirement already satisfied: nvidia-cusparse-cu12==12.1.0.106 in /mnt/home/douliyang/mlir-workspace/iree-tutorial/myenv/lib/python3.11/site-packages (from torch>=2.3.0->iree-turbine) (12.1.0.106)\n",
      "Requirement already satisfied: nvidia-cusparselt-cu12==0.6.2 in /mnt/home/douliyang/mlir-workspace/iree-tutorial/myenv/lib/python3.11/site-packages (from torch>=2.3.0->iree-turbine) (0.6.2)\n",
      "Requirement already satisfied: nvidia-nccl-cu12==2.21.5 in /mnt/home/douliyang/mlir-workspace/iree-tutorial/myenv/lib/python3.11/site-packages (from torch>=2.3.0->iree-turbine) (2.21.5)\n",
      "Requirement already satisfied: nvidia-nvtx-cu12==12.1.105 in /mnt/home/douliyang/mlir-workspace/iree-tutorial/myenv/lib/python3.11/site-packages (from torch>=2.3.0->iree-turbine) (12.1.105)\n",
      "Requirement already satisfied: pytorch-triton==3.1.0+cf34004b8a in /mnt/home/douliyang/mlir-workspace/iree-tutorial/myenv/lib/python3.11/site-packages (from torch>=2.3.0->iree-turbine) (3.1.0+cf34004b8a)\n",
      "Requirement already satisfied: sympy==1.13.1 in /mnt/home/douliyang/mlir-workspace/iree-tutorial/myenv/lib/python3.11/site-packages (from torch>=2.3.0->iree-turbine) (1.13.1)\n",
      "Requirement already satisfied: nvidia-nvjitlink-cu12 in /mnt/home/douliyang/mlir-workspace/iree-tutorial/myenv/lib/python3.11/site-packages (from nvidia-cusolver-cu12==11.4.5.107->torch>=2.3.0->iree-turbine) (12.1.105)\n",
      "Requirement already satisfied: mpmath<1.4,>=1.1.0 in /mnt/home/douliyang/mlir-workspace/iree-tutorial/myenv/lib/python3.11/site-packages (from sympy==1.13.1->torch>=2.3.0->iree-turbine) (1.3.0)\n"
     ]
    }
   ],
   "source": [
    "!python -m pip install iree-turbine"
   ]
  },
  {
   "cell_type": "code",
   "execution_count": 9,
   "id": "99f9a35f-60e6-4700-922d-c14322cf8c7a",
   "metadata": {},
   "outputs": [
    {
     "ename": "ImportError",
     "evalue": "/opt/anaconda3/bin/../lib/libstdc++.so.6: version `GLIBCXX_3.4.30' not found (required by /home/douliyang/large/mlir-workspace/iree-cuda/compiler/bindings/python/iree/compiler/_mlir_libs/libIREECompiler.so)",
     "output_type": "error",
     "traceback": [
      "\u001b[0;31m---------------------------------------------------------------------------\u001b[0m",
      "\u001b[0;31mImportError\u001b[0m                               Traceback (most recent call last)",
      "Cell \u001b[0;32mIn[9], line 3\u001b[0m\n\u001b[1;32m      1\u001b[0m \u001b[38;5;66;03m#@title 2. Export the program using `aot.export()`\u001b[39;00m\n\u001b[1;32m      2\u001b[0m \u001b[38;5;28;01mimport\u001b[39;00m \u001b[38;5;21;01mtorch\u001b[39;00m\n\u001b[0;32m----> 3\u001b[0m \u001b[38;5;28;01mimport\u001b[39;00m \u001b[38;5;21;01miree\u001b[39;00m\u001b[38;5;21;01m.\u001b[39;00m\u001b[38;5;21;01mturbine\u001b[39;00m\u001b[38;5;21;01m.\u001b[39;00m\u001b[38;5;21;01maot\u001b[39;00m\n\u001b[1;32m      5\u001b[0m example_arg \u001b[38;5;241m=\u001b[39m torch\u001b[38;5;241m.\u001b[39mrandn(\u001b[38;5;241m4\u001b[39m)\n\u001b[1;32m      6\u001b[0m export_output \u001b[38;5;241m=\u001b[39m aot\u001b[38;5;241m.\u001b[39mexport(linear_module, example_arg)\n",
      "File \u001b[0;32m/mnt/home/douliyang/mlir-workspace/iree-tutorial/myenv/lib/python3.11/site-packages/iree/turbine/aot/__init__.py:11\u001b[0m\n\u001b[1;32m      1\u001b[0m \u001b[38;5;124;03m\"\"\"\u001b[39;00m\n\u001b[1;32m      2\u001b[0m \u001b[38;5;124;03mToolkit for ahead-of-time (AOT) compilation and export of PyTorch programs.\u001b[39;00m\n\u001b[1;32m      3\u001b[0m \u001b[38;5;124;03m\"\"\"\u001b[39;00m\n\u001b[1;32m      5\u001b[0m \u001b[38;5;66;03m# Copyright 2023 Nod Labs, Inc\u001b[39;00m\n\u001b[1;32m      6\u001b[0m \u001b[38;5;66;03m#\u001b[39;00m\n\u001b[1;32m      7\u001b[0m \u001b[38;5;66;03m# Licensed under the Apache License v2.0 with LLVM Exceptions.\u001b[39;00m\n\u001b[1;32m      8\u001b[0m \u001b[38;5;66;03m# See https://llvm.org/LICENSE.txt for license information.\u001b[39;00m\n\u001b[1;32m      9\u001b[0m \u001b[38;5;66;03m# SPDX-License-Identifier: Apache-2.0 WITH LLVM-exception\u001b[39;00m\n\u001b[0;32m---> 11\u001b[0m \u001b[38;5;28;01mfrom\u001b[39;00m \u001b[38;5;21;01m.\u001b[39;00m\u001b[38;5;21;01mbuiltins\u001b[39;00m \u001b[38;5;28;01mimport\u001b[39;00m \u001b[38;5;241m*\u001b[39m\n\u001b[1;32m     12\u001b[0m \u001b[38;5;28;01mfrom\u001b[39;00m \u001b[38;5;21;01m.\u001b[39;00m\u001b[38;5;21;01mcompiled_module\u001b[39;00m \u001b[38;5;28;01mimport\u001b[39;00m \u001b[38;5;241m*\u001b[39m\n\u001b[1;32m     13\u001b[0m \u001b[38;5;28;01mfrom\u001b[39;00m \u001b[38;5;21;01m.\u001b[39;00m\u001b[38;5;21;01mdecompositions\u001b[39;00m \u001b[38;5;28;01mimport\u001b[39;00m \u001b[38;5;241m*\u001b[39m\n",
      "File \u001b[0;32m/mnt/home/douliyang/mlir-workspace/iree-tutorial/myenv/lib/python3.11/site-packages/iree/turbine/aot/builtins/__init__.py:7\u001b[0m\n\u001b[1;32m      1\u001b[0m \u001b[38;5;66;03m# Copyright 2023 Nod Labs, Inc\u001b[39;00m\n\u001b[1;32m      2\u001b[0m \u001b[38;5;66;03m#\u001b[39;00m\n\u001b[1;32m      3\u001b[0m \u001b[38;5;66;03m# Licensed under the Apache License v2.0 with LLVM Exceptions.\u001b[39;00m\n\u001b[1;32m      4\u001b[0m \u001b[38;5;66;03m# See https://llvm.org/LICENSE.txt for license information.\u001b[39;00m\n\u001b[1;32m      5\u001b[0m \u001b[38;5;66;03m# SPDX-License-Identifier: Apache-2.0 WITH LLVM-exception\u001b[39;00m\n\u001b[0;32m----> 7\u001b[0m \u001b[38;5;28;01mfrom\u001b[39;00m \u001b[38;5;21;01m.\u001b[39;00m\u001b[38;5;21;01mglobals\u001b[39;00m \u001b[38;5;28;01mimport\u001b[39;00m \u001b[38;5;241m*\u001b[39m\n\u001b[1;32m      8\u001b[0m \u001b[38;5;28;01mfrom\u001b[39;00m \u001b[38;5;21;01m.\u001b[39;00m\u001b[38;5;21;01mjittable\u001b[39;00m \u001b[38;5;28;01mimport\u001b[39;00m jittable\n\u001b[1;32m      9\u001b[0m \u001b[38;5;28;01mfrom\u001b[39;00m \u001b[38;5;21;01m.\u001b[39;00m\u001b[38;5;21;01m.\u001b[39;00m\u001b[38;5;21;01msupport\u001b[39;00m\u001b[38;5;21;01m.\u001b[39;00m\u001b[38;5;21;01mprocedural\u001b[39;00m \u001b[38;5;28;01mimport\u001b[39;00m (\n\u001b[1;32m     10\u001b[0m     AbstractBool,\n\u001b[1;32m     11\u001b[0m     AbstractF32,\n\u001b[0;32m   (...)\u001b[0m\n\u001b[1;32m     17\u001b[0m     abstractify,\n\u001b[1;32m     18\u001b[0m )\n",
      "File \u001b[0;32m/mnt/home/douliyang/mlir-workspace/iree-tutorial/myenv/lib/python3.11/site-packages/iree/turbine/aot/builtins/globals.py:12\u001b[0m\n\u001b[1;32m      8\u001b[0m \u001b[38;5;28;01mfrom\u001b[39;00m \u001b[38;5;21;01mtyping\u001b[39;00m \u001b[38;5;28;01mimport\u001b[39;00m Any, Callable, Optional\n\u001b[1;32m     10\u001b[0m \u001b[38;5;28;01mimport\u001b[39;00m \u001b[38;5;21;01mtorch\u001b[39;00m\u001b[38;5;21;01m.\u001b[39;00m\u001b[38;5;21;01mnn\u001b[39;00m \u001b[38;5;28;01mas\u001b[39;00m \u001b[38;5;21;01mnn\u001b[39;00m\n\u001b[0;32m---> 12\u001b[0m \u001b[38;5;28;01mfrom\u001b[39;00m \u001b[38;5;21;01m.\u001b[39;00m\u001b[38;5;21;01m.\u001b[39;00m\u001b[38;5;21;01msupport\u001b[39;00m\u001b[38;5;21;01m.\u001b[39;00m\u001b[38;5;21;01mprocedural\u001b[39;00m \u001b[38;5;28;01mimport\u001b[39;00m (\n\u001b[1;32m     13\u001b[0m     AbstractTypedef,\n\u001b[1;32m     14\u001b[0m     Abstractifiable,\n\u001b[1;32m     15\u001b[0m     GlobalsDef,\n\u001b[1;32m     16\u001b[0m     TreeAbstractifiable,\n\u001b[1;32m     17\u001b[0m     abstractify_single_value,\n\u001b[1;32m     18\u001b[0m )\n\u001b[1;32m     20\u001b[0m \u001b[38;5;28;01mfrom\u001b[39;00m \u001b[38;5;21;01m.\u001b[39;00m\u001b[38;5;21;01m.\u001b[39;00m\u001b[38;5;21;01msupport\u001b[39;00m\u001b[38;5;21;01m.\u001b[39;00m\u001b[38;5;21;01mir_utils\u001b[39;00m \u001b[38;5;28;01mimport\u001b[39;00m (\n\u001b[1;32m     21\u001b[0m     NameMapCallback,\n\u001b[1;32m     22\u001b[0m     GlobalAttributes,\n\u001b[1;32m     23\u001b[0m )\n\u001b[1;32m     25\u001b[0m \u001b[38;5;28;01mfrom\u001b[39;00m \u001b[38;5;21;01mtorch\u001b[39;00m\u001b[38;5;21;01m.\u001b[39;00m\u001b[38;5;21;01mutils\u001b[39;00m\u001b[38;5;21;01m.\u001b[39;00m\u001b[38;5;21;01m_pytree\u001b[39;00m \u001b[38;5;28;01mimport\u001b[39;00m (\n\u001b[1;32m     26\u001b[0m     TreeSpec,\n\u001b[1;32m     27\u001b[0m     tree_flatten,\n\u001b[1;32m     28\u001b[0m     tree_map,\n\u001b[1;32m     29\u001b[0m )\n",
      "File \u001b[0;32m/mnt/home/douliyang/mlir-workspace/iree-tutorial/myenv/lib/python3.11/site-packages/iree/turbine/aot/support/procedural/__init__.py:13\u001b[0m\n\u001b[1;32m      1\u001b[0m \u001b[38;5;66;03m# Copyright 2023 Nod Labs, Inc\u001b[39;00m\n\u001b[1;32m      2\u001b[0m \u001b[38;5;66;03m# Portions Copyright 2022 The IREE Authors\u001b[39;00m\n\u001b[1;32m      3\u001b[0m \u001b[38;5;66;03m#\u001b[39;00m\n\u001b[0;32m   (...)\u001b[0m\n\u001b[1;32m     10\u001b[0m \u001b[38;5;66;03m# imports and when used, they must be coherent with the load\u001b[39;00m\n\u001b[1;32m     11\u001b[0m \u001b[38;5;66;03m# order here and must perform the import at the end of the module.\u001b[39;00m\n\u001b[0;32m---> 13\u001b[0m \u001b[38;5;28;01mfrom\u001b[39;00m \u001b[38;5;21;01m.\u001b[39;00m\u001b[38;5;21;01mbase\u001b[39;00m \u001b[38;5;28;01mimport\u001b[39;00m \u001b[38;5;241m*\u001b[39m\n\u001b[1;32m     14\u001b[0m \u001b[38;5;28;01mfrom\u001b[39;00m \u001b[38;5;21;01m.\u001b[39;00m\u001b[38;5;21;01miree_emitter\u001b[39;00m \u001b[38;5;28;01mimport\u001b[39;00m IREEEmitter\n\u001b[1;32m     15\u001b[0m \u001b[38;5;28;01mfrom\u001b[39;00m \u001b[38;5;21;01m.\u001b[39;00m\u001b[38;5;21;01mprimitives\u001b[39;00m \u001b[38;5;28;01mimport\u001b[39;00m \u001b[38;5;241m*\u001b[39m\n",
      "File \u001b[0;32m/mnt/home/douliyang/mlir-workspace/iree-tutorial/myenv/lib/python3.11/site-packages/iree/turbine/aot/support/procedural/base.py:22\u001b[0m\n\u001b[1;32m     19\u001b[0m \u001b[38;5;28;01mimport\u001b[39;00m \u001b[38;5;21;01mtorch\u001b[39;00m\n\u001b[1;32m     20\u001b[0m \u001b[38;5;28;01mfrom\u001b[39;00m \u001b[38;5;21;01mtorch\u001b[39;00m\u001b[38;5;21;01m.\u001b[39;00m\u001b[38;5;21;01mutils\u001b[39;00m\u001b[38;5;21;01m.\u001b[39;00m\u001b[38;5;21;01m_pytree\u001b[39;00m \u001b[38;5;28;01mimport\u001b[39;00m tree_map\n\u001b[0;32m---> 22\u001b[0m \u001b[38;5;28;01mfrom\u001b[39;00m \u001b[38;5;21;01m.\u001b[39;00m\u001b[38;5;21;01m.\u001b[39;00m\u001b[38;5;21;01m.\u001b[39;00m\u001b[38;5;21;01m.\u001b[39;00m\u001b[38;5;21;01msupport\u001b[39;00m\u001b[38;5;21;01m.\u001b[39;00m\u001b[38;5;21;01mir_imports\u001b[39;00m \u001b[38;5;28;01mimport\u001b[39;00m (\n\u001b[1;32m     23\u001b[0m     F32Type,\n\u001b[1;32m     24\u001b[0m     F64Type,\n\u001b[1;32m     25\u001b[0m     IndexType,\n\u001b[1;32m     26\u001b[0m     IntegerType,\n\u001b[1;32m     27\u001b[0m     IrType,\n\u001b[1;32m     28\u001b[0m     Location,\n\u001b[1;32m     29\u001b[0m     RankedTensorType,\n\u001b[1;32m     30\u001b[0m     ShapedType,\n\u001b[1;32m     31\u001b[0m     Value,\n\u001b[1;32m     32\u001b[0m )\n\u001b[1;32m     34\u001b[0m \u001b[38;5;28;01mfrom\u001b[39;00m \u001b[38;5;21;01m.\u001b[39;00m\u001b[38;5;21;01m.\u001b[39;00m\u001b[38;5;21;01mir_utils\u001b[39;00m \u001b[38;5;28;01mimport\u001b[39;00m (\n\u001b[1;32m     35\u001b[0m     FunctionBuilder,\n\u001b[1;32m     36\u001b[0m     ModuleBuilder,\n\u001b[1;32m     37\u001b[0m )\n\u001b[1;32m     39\u001b[0m ShapedTypeDynamicSizeSentinel \u001b[38;5;241m=\u001b[39m ShapedType\u001b[38;5;241m.\u001b[39mget_dynamic_size()\n",
      "File \u001b[0;32m/mnt/home/douliyang/mlir-workspace/iree-tutorial/myenv/lib/python3.11/site-packages/iree/turbine/support/ir_imports.py:10\u001b[0m\n\u001b[1;32m      1\u001b[0m \u001b[38;5;66;03m# Copyright 2023 Nod Labs, Inc\u001b[39;00m\n\u001b[1;32m      2\u001b[0m \u001b[38;5;66;03m# Portions Copyright 2022 The IREE Authors\u001b[39;00m\n\u001b[1;32m      3\u001b[0m \u001b[38;5;66;03m#\u001b[39;00m\n\u001b[1;32m      4\u001b[0m \u001b[38;5;66;03m# Licensed under the Apache License v2.0 with LLVM Exceptions.\u001b[39;00m\n\u001b[1;32m      5\u001b[0m \u001b[38;5;66;03m# See https://llvm.org/LICENSE.txt for license information.\u001b[39;00m\n\u001b[1;32m      6\u001b[0m \u001b[38;5;66;03m# SPDX-License-Identifier: Apache-2.0 WITH LLVM-exception\u001b[39;00m\n\u001b[1;32m      8\u001b[0m \u001b[38;5;124;03m\"\"\"Unifies all imports of iree.compiler.ir into one place.\"\"\"\u001b[39;00m\n\u001b[0;32m---> 10\u001b[0m \u001b[38;5;28;01mfrom\u001b[39;00m \u001b[38;5;21;01miree\u001b[39;00m\u001b[38;5;21;01m.\u001b[39;00m\u001b[38;5;21;01mcompiler\u001b[39;00m\u001b[38;5;21;01m.\u001b[39;00m\u001b[38;5;21;01mir\u001b[39;00m \u001b[38;5;28;01mimport\u001b[39;00m (\n\u001b[1;32m     11\u001b[0m     ArrayAttr,\n\u001b[1;32m     12\u001b[0m     AsmState,\n\u001b[1;32m     13\u001b[0m     Attribute,\n\u001b[1;32m     14\u001b[0m     Block,\n\u001b[1;32m     15\u001b[0m     BlockArgument,\n\u001b[1;32m     16\u001b[0m     Context,\n\u001b[1;32m     17\u001b[0m     DenseElementsAttr,\n\u001b[1;32m     18\u001b[0m     DenseResourceElementsAttr,\n\u001b[1;32m     19\u001b[0m     DictAttr,\n\u001b[1;32m     20\u001b[0m     FlatSymbolRefAttr,\n\u001b[1;32m     21\u001b[0m     FloatAttr,\n\u001b[1;32m     22\u001b[0m     FunctionType,\n\u001b[1;32m     23\u001b[0m     IndexType,\n\u001b[1;32m     24\u001b[0m     InsertionPoint,\n\u001b[1;32m     25\u001b[0m     IntegerAttr,\n\u001b[1;32m     26\u001b[0m     Location,\n\u001b[1;32m     27\u001b[0m     MLIRError,\n\u001b[1;32m     28\u001b[0m     Module,\n\u001b[1;32m     29\u001b[0m     OpResult,\n\u001b[1;32m     30\u001b[0m     Operation,\n\u001b[1;32m     31\u001b[0m     RankedTensorType,\n\u001b[1;32m     32\u001b[0m     ShapedType,\n\u001b[1;32m     33\u001b[0m     StringAttr,\n\u001b[1;32m     34\u001b[0m     SymbolTable,\n\u001b[1;32m     35\u001b[0m     Type \u001b[38;5;28;01mas\u001b[39;00m IrType,\n\u001b[1;32m     36\u001b[0m     TypeAttr,\n\u001b[1;32m     37\u001b[0m     UnitAttr,\n\u001b[1;32m     38\u001b[0m     \u001b[38;5;66;03m# Types.\u001b[39;00m\n\u001b[1;32m     39\u001b[0m     ComplexType,\n\u001b[1;32m     40\u001b[0m     BF16Type,\n\u001b[1;32m     41\u001b[0m     Float8E4M3FNUZType,\n\u001b[1;32m     42\u001b[0m     F16Type,\n\u001b[1;32m     43\u001b[0m     F32Type,\n\u001b[1;32m     44\u001b[0m     F64Type,\n\u001b[1;32m     45\u001b[0m     Float8E4M3FNType,\n\u001b[1;32m     46\u001b[0m     Float8E4M3FNUZType,\n\u001b[1;32m     47\u001b[0m     Float8E5M2Type,\n\u001b[1;32m     48\u001b[0m     Float8E5M2FNUZType,\n\u001b[1;32m     49\u001b[0m     IntegerType,\n\u001b[1;32m     50\u001b[0m     RankedTensorType,\n\u001b[1;32m     51\u001b[0m     Value,\n\u001b[1;32m     52\u001b[0m )\n\u001b[1;32m     54\u001b[0m \u001b[38;5;28;01mfrom\u001b[39;00m \u001b[38;5;21;01miree\u001b[39;00m\u001b[38;5;21;01m.\u001b[39;00m\u001b[38;5;21;01mcompiler\u001b[39;00m\u001b[38;5;21;01m.\u001b[39;00m\u001b[38;5;21;01mpassmanager\u001b[39;00m \u001b[38;5;28;01mimport\u001b[39;00m (\n\u001b[1;32m     55\u001b[0m     PassManager,\n\u001b[1;32m     56\u001b[0m )\n\u001b[1;32m     58\u001b[0m \u001b[38;5;28;01mfrom\u001b[39;00m \u001b[38;5;21;01miree\u001b[39;00m\u001b[38;5;21;01m.\u001b[39;00m\u001b[38;5;21;01mcompiler\u001b[39;00m\u001b[38;5;21;01m.\u001b[39;00m\u001b[38;5;21;01mdialects\u001b[39;00m \u001b[38;5;28;01mimport\u001b[39;00m (\n\u001b[1;32m     59\u001b[0m     builtin \u001b[38;5;28;01mas\u001b[39;00m builtin_d,\n\u001b[1;32m     60\u001b[0m     flow \u001b[38;5;28;01mas\u001b[39;00m flow_d,\n\u001b[0;32m   (...)\u001b[0m\n\u001b[1;32m     64\u001b[0m     tensor \u001b[38;5;28;01mas\u001b[39;00m tensor_d,\n\u001b[1;32m     65\u001b[0m )\n",
      "File \u001b[0;32m~/large/mlir-workspace/iree-cuda/compiler/bindings/python/iree/compiler/ir.py:5\u001b[0m\n\u001b[1;32m      1\u001b[0m \u001b[38;5;66;03m#  Part of the LLVM Project, under the Apache License v2.0 with LLVM Exceptions.\u001b[39;00m\n\u001b[1;32m      2\u001b[0m \u001b[38;5;66;03m#  See https://llvm.org/LICENSE.txt for license information.\u001b[39;00m\n\u001b[1;32m      3\u001b[0m \u001b[38;5;66;03m#  SPDX-License-Identifier: Apache-2.0 WITH LLVM-exception\u001b[39;00m\n\u001b[0;32m----> 5\u001b[0m \u001b[38;5;28;01mfrom\u001b[39;00m \u001b[38;5;21;01m.\u001b[39;00m\u001b[38;5;21;01m_mlir_libs\u001b[39;00m\u001b[38;5;21;01m.\u001b[39;00m\u001b[38;5;21;01m_mlir\u001b[39;00m\u001b[38;5;21;01m.\u001b[39;00m\u001b[38;5;21;01mir\u001b[39;00m \u001b[38;5;28;01mimport\u001b[39;00m \u001b[38;5;241m*\u001b[39m\n\u001b[1;32m      6\u001b[0m \u001b[38;5;28;01mfrom\u001b[39;00m \u001b[38;5;21;01m.\u001b[39;00m\u001b[38;5;21;01m_mlir_libs\u001b[39;00m\u001b[38;5;21;01m.\u001b[39;00m\u001b[38;5;21;01m_mlir\u001b[39;00m\u001b[38;5;21;01m.\u001b[39;00m\u001b[38;5;21;01mir\u001b[39;00m \u001b[38;5;28;01mimport\u001b[39;00m _GlobalDebug\n\u001b[1;32m      7\u001b[0m \u001b[38;5;28;01mfrom\u001b[39;00m \u001b[38;5;21;01m.\u001b[39;00m\u001b[38;5;21;01m_mlir_libs\u001b[39;00m\u001b[38;5;21;01m.\u001b[39;00m\u001b[38;5;21;01m_mlir\u001b[39;00m \u001b[38;5;28;01mimport\u001b[39;00m register_type_caster, register_value_caster\n",
      "File \u001b[0;32m~/large/mlir-workspace/iree-cuda/compiler/bindings/python/iree/compiler/_mlir_libs/__init__.py:180\u001b[0m\n\u001b[1;32m    175\u001b[0m             \u001b[38;5;28;01mreturn\u001b[39;00m s\n\u001b[1;32m    177\u001b[0m     ir\u001b[38;5;241m.\u001b[39mMLIRError \u001b[38;5;241m=\u001b[39m MLIRError\n\u001b[0;32m--> 180\u001b[0m \u001b[43m_site_initialize\u001b[49m\u001b[43m(\u001b[49m\u001b[43m)\u001b[49m\n",
      "File \u001b[0;32m~/large/mlir-workspace/iree-cuda/compiler/bindings/python/iree/compiler/_mlir_libs/__init__.py:78\u001b[0m, in \u001b[0;36m_site_initialize\u001b[0;34m()\u001b[0m\n\u001b[1;32m     76\u001b[0m \u001b[38;5;28;01mimport\u001b[39;00m \u001b[38;5;21;01mitertools\u001b[39;00m\n\u001b[1;32m     77\u001b[0m \u001b[38;5;28;01mimport\u001b[39;00m \u001b[38;5;21;01mlogging\u001b[39;00m\n\u001b[0;32m---> 78\u001b[0m \u001b[38;5;28;01mfrom\u001b[39;00m \u001b[38;5;21;01m.\u001b[39;00m\u001b[38;5;21;01m_mlir\u001b[39;00m \u001b[38;5;28;01mimport\u001b[39;00m ir\n\u001b[1;32m     80\u001b[0m logger \u001b[38;5;241m=\u001b[39m logging\u001b[38;5;241m.\u001b[39mgetLogger(\u001b[38;5;18m__name__\u001b[39m)\n\u001b[1;32m     81\u001b[0m post_init_hooks \u001b[38;5;241m=\u001b[39m []\n",
      "\u001b[0;31mImportError\u001b[0m: /opt/anaconda3/bin/../lib/libstdc++.so.6: version `GLIBCXX_3.4.30' not found (required by /home/douliyang/large/mlir-workspace/iree-cuda/compiler/bindings/python/iree/compiler/_mlir_libs/libIREECompiler.so)"
     ]
    }
   ],
   "source": [
    "#@title 2. Export the program using `aot.export()`\n",
    "import torch\n",
    "import iree.turbine.aot\n",
    "\n",
    "example_arg = torch.randn(4)\n",
    "export_output = aot.export(linear_module, example_arg)"
   ]
  },
  {
   "cell_type": "code",
   "execution_count": null,
   "id": "e6a53ba4-6a01-4e46-b905-7f79366c060a",
   "metadata": {},
   "outputs": [],
   "source": []
  }
 ],
 "metadata": {
  "kernelspec": {
   "display_name": "myenv",
   "language": "python",
   "name": "myenv"
  },
  "language_info": {
   "codemirror_mode": {
    "name": "ipython",
    "version": 3
   },
   "file_extension": ".py",
   "mimetype": "text/x-python",
   "name": "python",
   "nbconvert_exporter": "python",
   "pygments_lexer": "ipython3",
   "version": "3.11.9"
  }
 },
 "nbformat": 4,
 "nbformat_minor": 5
}
