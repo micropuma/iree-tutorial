{
 "cells": [
  {
   "cell_type": "code",
   "execution_count": 28,
   "id": "24118806-348f-4e50-9241-b9dc14bdab82",
   "metadata": {},
   "outputs": [
    {
     "name": "stdout",
     "output_type": "stream",
     "text": [
      "Found existing installation: torch 2.6.0.dev20241112+cu121\n",
      "Uninstalling torch-2.6.0.dev20241112+cu121:\n",
      "  Successfully uninstalled torch-2.6.0.dev20241112+cu121\n",
      "Found existing installation: torchvision 0.20.0.dev20241112+cu121\n",
      "Uninstalling torchvision-0.20.0.dev20241112+cu121:\n",
      "  Successfully uninstalled torchvision-0.20.0.dev20241112+cu121\n",
      "Found existing installation: torchaudio 2.5.0.dev20241112+cu121\n",
      "Uninstalling torchaudio-2.5.0.dev20241112+cu121:\n",
      "  Successfully uninstalled torchaudio-2.5.0.dev20241112+cu121\n"
     ]
    }
   ],
   "source": [
    "!pip uninstall torch torchvision torchaudio -y"
   ]
  },
  {
   "cell_type": "code",
   "execution_count": 30,
   "id": "d5365abf-64e0-41f4-a60d-8b0973ca88a6",
   "metadata": {},
   "outputs": [
    {
     "name": "stdout",
     "output_type": "stream",
     "text": [
      "Looking in indexes: https://download.pytorch.org/whl/nightly/cu121\n",
      "Collecting torch\n",
      "  Using cached https://download.pytorch.org/whl/nightly/cu121/torch-2.6.0.dev20241112%2Bcu121-cp311-cp311-linux_x86_64.whl (768.0 MB)\n",
      "Collecting torchvision\n",
      "  Using cached https://download.pytorch.org/whl/nightly/cu121/torchvision-0.20.0.dev20241112%2Bcu121-cp311-cp311-linux_x86_64.whl (7.4 MB)\n",
      "Collecting torchaudio\n",
      "  Using cached https://download.pytorch.org/whl/nightly/cu121/torchaudio-2.5.0.dev20241112%2Bcu121-cp311-cp311-linux_x86_64.whl (3.4 MB)\n",
      "Requirement already satisfied: filelock in /mnt/home/douliyang/mlir-workspace/iree-tutorial/myenv/lib/python3.11/site-packages (from torch) (3.13.1)\n",
      "Requirement already satisfied: typing-extensions>=4.10.0 in /mnt/home/douliyang/mlir-workspace/iree-tutorial/myenv/lib/python3.11/site-packages (from torch) (4.12.2)\n",
      "Requirement already satisfied: networkx in /mnt/home/douliyang/mlir-workspace/iree-tutorial/myenv/lib/python3.11/site-packages (from torch) (3.3)\n",
      "Requirement already satisfied: jinja2 in /mnt/home/douliyang/mlir-workspace/iree-tutorial/myenv/lib/python3.11/site-packages (from torch) (3.1.4)\n",
      "Requirement already satisfied: fsspec in /mnt/home/douliyang/mlir-workspace/iree-tutorial/myenv/lib/python3.11/site-packages (from torch) (2024.6.1)\n",
      "Requirement already satisfied: nvidia-cuda-nvrtc-cu12==12.1.105 in /mnt/home/douliyang/mlir-workspace/iree-tutorial/myenv/lib/python3.11/site-packages (from torch) (12.1.105)\n",
      "Requirement already satisfied: nvidia-cuda-runtime-cu12==12.1.105 in /mnt/home/douliyang/mlir-workspace/iree-tutorial/myenv/lib/python3.11/site-packages (from torch) (12.1.105)\n",
      "Requirement already satisfied: nvidia-cuda-cupti-cu12==12.1.105 in /mnt/home/douliyang/mlir-workspace/iree-tutorial/myenv/lib/python3.11/site-packages (from torch) (12.1.105)\n",
      "Requirement already satisfied: nvidia-cudnn-cu12==9.1.0.70 in /mnt/home/douliyang/mlir-workspace/iree-tutorial/myenv/lib/python3.11/site-packages (from torch) (9.1.0.70)\n",
      "Requirement already satisfied: nvidia-cublas-cu12==12.1.3.1 in /mnt/home/douliyang/mlir-workspace/iree-tutorial/myenv/lib/python3.11/site-packages (from torch) (12.1.3.1)\n",
      "Requirement already satisfied: nvidia-cufft-cu12==11.0.2.54 in /mnt/home/douliyang/mlir-workspace/iree-tutorial/myenv/lib/python3.11/site-packages (from torch) (11.0.2.54)\n",
      "Requirement already satisfied: nvidia-curand-cu12==10.3.2.106 in /mnt/home/douliyang/mlir-workspace/iree-tutorial/myenv/lib/python3.11/site-packages (from torch) (10.3.2.106)\n",
      "Requirement already satisfied: nvidia-cusolver-cu12==11.4.5.107 in /mnt/home/douliyang/mlir-workspace/iree-tutorial/myenv/lib/python3.11/site-packages (from torch) (11.4.5.107)\n",
      "Requirement already satisfied: nvidia-cusparse-cu12==12.1.0.106 in /mnt/home/douliyang/mlir-workspace/iree-tutorial/myenv/lib/python3.11/site-packages (from torch) (12.1.0.106)\n",
      "Requirement already satisfied: nvidia-cusparselt-cu12==0.6.2 in /mnt/home/douliyang/mlir-workspace/iree-tutorial/myenv/lib/python3.11/site-packages (from torch) (0.6.2)\n",
      "Requirement already satisfied: nvidia-nccl-cu12==2.21.5 in /mnt/home/douliyang/mlir-workspace/iree-tutorial/myenv/lib/python3.11/site-packages (from torch) (2.21.5)\n",
      "Requirement already satisfied: nvidia-nvtx-cu12==12.1.105 in /mnt/home/douliyang/mlir-workspace/iree-tutorial/myenv/lib/python3.11/site-packages (from torch) (12.1.105)\n",
      "Requirement already satisfied: pytorch-triton==3.1.0+cf34004b8a in /mnt/home/douliyang/mlir-workspace/iree-tutorial/myenv/lib/python3.11/site-packages (from torch) (3.1.0+cf34004b8a)\n",
      "Requirement already satisfied: sympy==1.13.1 in /mnt/home/douliyang/mlir-workspace/iree-tutorial/myenv/lib/python3.11/site-packages (from torch) (1.13.1)\n",
      "Requirement already satisfied: nvidia-nvjitlink-cu12 in /mnt/home/douliyang/mlir-workspace/iree-tutorial/myenv/lib/python3.11/site-packages (from nvidia-cusolver-cu12==11.4.5.107->torch) (12.1.105)\n",
      "Requirement already satisfied: mpmath<1.4,>=1.1.0 in /mnt/home/douliyang/mlir-workspace/iree-tutorial/myenv/lib/python3.11/site-packages (from sympy==1.13.1->torch) (1.3.0)\n",
      "Requirement already satisfied: numpy in /mnt/home/douliyang/mlir-workspace/iree-tutorial/myenv/lib/python3.11/site-packages (from torchvision) (2.0.2)\n",
      "Requirement already satisfied: pillow!=8.3.*,>=5.3.0 in /mnt/home/douliyang/mlir-workspace/iree-tutorial/myenv/lib/python3.11/site-packages (from torchvision) (11.0.0)\n",
      "Requirement already satisfied: MarkupSafe>=2.0 in /mnt/home/douliyang/mlir-workspace/iree-tutorial/myenv/lib/python3.11/site-packages (from jinja2->torch) (3.0.2)\n",
      "Installing collected packages: torch, torchvision, torchaudio\n",
      "Successfully installed torch-2.6.0.dev20241112+cu121 torchaudio-2.5.0.dev20241112+cu121 torchvision-0.20.0.dev20241112+cu121\n"
     ]
    }
   ],
   "source": [
    "!pip install torch torchvision torchaudio --index-url https://download.pytorch.org/whl/nightly/cu121"
   ]
  },
  {
   "cell_type": "code",
   "execution_count": 1,
   "id": "8610a687-9116-483e-9210-b16943c36b61",
   "metadata": {},
   "outputs": [
    {
     "name": "stdout",
     "output_type": "stream",
     "text": [
      "/mnt/home/douliyang/mlir-workspace/iree-tutorial/myenv/lib/python3.11/site-packages/torch/__init__.py\n",
      "/mnt/home/douliyang/mlir-workspace/iree-tutorial/myenv/lib/python3.11/site-packages/torch/__init__.py\n",
      "True\n",
      "True\n"
     ]
    }
   ],
   "source": [
    "!python -c \"import torch; print(torch.__file__)\"\n",
    "import torch\n",
    "print(torch.__file__)\n",
    "print(torch.cuda.is_available())\n",
    "!python -c \"import torch; print(torch.cuda.is_available())\""
   ]
  },
  {
   "cell_type": "code",
   "execution_count": 10,
   "id": "5b5edf2c-fa3e-4b19-a64f-aff3b67c7ebb",
   "metadata": {},
   "outputs": [],
   "source": [
    "torch.manual_seed(0)\n",
    "\n",
    "class LinearModule(torch.nn.Module):\n",
    "  def __init__(self, in_features, out_features):\n",
    "    super().__init__()\n",
    "    self.weight = torch.nn.Parameter(torch.randn(in_features, out_features))\n",
    "    self.bias = torch.nn.Parameter(torch.randn(out_features))\n",
    "\n",
    "  def forward(self, input):\n",
    "    return (input @ self.weight) + self.bias\n",
    "\n",
    "linear_module = LinearModule(4, 3)"
   ]
  },
  {
   "cell_type": "code",
   "execution_count": 15,
   "id": "2f70f2ee-30d1-4d0c-ae92-4f48dcd2984b",
   "metadata": {},
   "outputs": [
    {
     "name": "stdout",
     "output_type": "stream",
     "text": [
      "['cudagraphs', 'inductor', 'onnxrt', 'openxla', 'turbine_cpu', 'tvm']\n"
     ]
    }
   ],
   "source": [
    "import torch\n",
    "print(torch._dynamo.list_backends())"
   ]
  },
  {
   "cell_type": "code",
   "execution_count": 16,
   "id": "014eb373-9308-404f-88e3-85cb6638d4ed",
   "metadata": {},
   "outputs": [
    {
     "name": "stdout",
     "output_type": "stream",
     "text": [
      "Compiled module using Turbine. New module type is <class 'torch._dynamo.eval_frame.OptimizedModule'>\n"
     ]
    }
   ],
   "source": [
    "opt_linear_module = torch.compile(linear_module, backend=\"cudagraphs\")\n",
    "print(\"Compiled module using Turbine. New module type is\", type(opt_linear_module))"
   ]
  },
  {
   "cell_type": "code",
   "execution_count": 18,
   "id": "231d6880-6571-4692-a816-df74c087716b",
   "metadata": {},
   "outputs": [
    {
     "name": "stdout",
     "output_type": "stream",
     "text": [
      "cuda\n"
     ]
    }
   ],
   "source": [
    "device = torch.device(\"cuda\" if torch.cuda.is_available() else \"cpu\")\n",
    "print(device)"
   ]
  },
  {
   "cell_type": "code",
   "execution_count": 19,
   "id": "ed8cff2f-0750-4744-9ba5-10d92a1a3f1b",
   "metadata": {},
   "outputs": [
    {
     "data": {
      "text/plain": [
       "OptimizedModule(\n",
       "  (_orig_mod): LinearModule()\n",
       ")"
      ]
     },
     "execution_count": 19,
     "metadata": {},
     "output_type": "execute_result"
    }
   ],
   "source": [
    "opt_linear_module.to(device)"
   ]
  },
  {
   "cell_type": "code",
   "execution_count": 20,
   "id": "612d8f5f-d76f-4eb3-afaa-ee2c24eaeac9",
   "metadata": {},
   "outputs": [
    {
     "name": "stdout",
     "output_type": "stream",
     "text": [
      "Weight: Parameter containing:\n",
      "tensor([[ 1.5410, -0.2934, -2.1788],\n",
      "        [ 0.5684, -1.0845, -1.3986],\n",
      "        [ 0.4033,  0.8380, -0.7193],\n",
      "        [-0.4033, -0.5966,  0.1820]], device='cuda:0', requires_grad=True)\n",
      "Bias: Parameter containing:\n",
      "tensor([-0.8567,  1.1006, -1.0712], device='cuda:0', requires_grad=True)\n",
      "Args: tensor([ 0.1227, -0.5663,  0.3731, -0.8920], device='cuda:0')\n",
      "Output: tensor([-0.4792,  2.5237, -0.9772], device='cuda:0',\n",
      "       grad_fn=<CompiledFunctionBackward>)\n"
     ]
    }
   ],
   "source": [
    "args = torch.randn(4).to(device)\n",
    "turbine_output = opt_linear_module(args)\n",
    "\n",
    "print(\"Weight:\", linear_module.weight)\n",
    "print(\"Bias:\", linear_module.bias)\n",
    "print(\"Args:\", args)\n",
    "print(\"Output:\", turbine_output)"
   ]
  },
  {
   "cell_type": "code",
   "execution_count": null,
   "id": "d55385e5-a989-4986-aac4-92b8679a2900",
   "metadata": {},
   "outputs": [],
   "source": []
  }
 ],
 "metadata": {
  "kernelspec": {
   "display_name": "myenv",
   "language": "python",
   "name": "myenv"
  },
  "language_info": {
   "codemirror_mode": {
    "name": "ipython",
    "version": 3
   },
   "file_extension": ".py",
   "mimetype": "text/x-python",
   "name": "python",
   "nbconvert_exporter": "python",
   "pygments_lexer": "ipython3",
   "version": "3.11.9"
  }
 },
 "nbformat": 4,
 "nbformat_minor": 5
}
